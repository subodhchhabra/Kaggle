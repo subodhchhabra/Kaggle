{
 "cells": [
  {
   "cell_type": "markdown",
   "metadata": {},
   "source": [
    "# Section 1-5 - Final Checks"
   ]
  },
  {
   "cell_type": "markdown",
   "metadata": {},
   "source": [
    "We now arrive at the last piece of puzzle - comparing the mean against the median when filling in the training data."
   ]
  },
  {
   "cell_type": "markdown",
   "metadata": {},
   "source": [
    "## Pandas - Extracting data"
   ]
  },
  {
   "cell_type": "code",
   "execution_count": 1,
   "metadata": {
    "collapsed": false
   },
   "outputs": [],
   "source": [
    "import pandas as pd\n",
    "import numpy as np\n",
    "\n",
    "df = pd.read_csv('C:/Vindico/Projects/Data/Kaggle/Competition/Titanic/train.csv')"
   ]
  },
  {
   "cell_type": "markdown",
   "metadata": {},
   "source": [
    "## Pandas - Cleaning data"
   ]
  },
  {
   "cell_type": "code",
   "execution_count": 2,
   "metadata": {
    "collapsed": false
   },
   "outputs": [],
   "source": [
    "df = df.drop(['Name', 'Ticket', 'Cabin'], axis=1)"
   ]
  },
  {
   "cell_type": "markdown",
   "metadata": {},
   "source": [
    "As we don't know whether the mean or the median will do better, we calculate both."
   ]
  },
  {
   "cell_type": "code",
   "execution_count": 3,
   "metadata": {
    "collapsed": false
   },
   "outputs": [],
   "source": [
    "age_mean = df['Age'].mean()\n",
    "age_median = df['Age'].median()"
   ]
  },
  {
   "cell_type": "code",
   "execution_count": 4,
   "metadata": {
    "collapsed": false
   },
   "outputs": [
    {
     "name": "stderr",
     "output_type": "stream",
     "text": [
      "C:\\Anaconda\\lib\\site-packages\\numpy\\lib\\arraysetops.py:197: FutureWarning: numpy not_equal will not check object identity in the future. The comparison did not return the same result as suggested by the identity (`is`)) and will change.\n",
      "  flag = np.concatenate(([True], aux[1:] != aux[:-1]))\n"
     ]
    }
   ],
   "source": [
    "from scipy.stats import mode\n",
    "\n",
    "mode_embarked = mode(df['Embarked'])[0][0]\n",
    "df['Embarked'] = df['Embarked'].fillna(mode_embarked)\n",
    "\n",
    "df['Gender'] = df['Sex'].map({'female': 0, 'male': 1}).astype(int)\n",
    "\n",
    "pd.get_dummies(df['Embarked'], prefix='Embarked').head(10)\n",
    "df = pd.concat([df, pd.get_dummies(df['Embarked'], prefix='Embarked')], axis=1)\n",
    "\n",
    "df = df.drop(['Sex', 'Embarked'], axis=1)\n",
    "\n",
    "cols = df.columns.tolist()\n",
    "cols = [cols[1]] + cols[0:1] + cols[2:]\n",
    "df = df[cols]\n",
    "\n",
    "df = df.fillna(-1)\n",
    "\n",
    "train_data = df.values"
   ]
  },
  {
   "cell_type": "markdown",
   "metadata": {},
   "source": [
    "## Scikit-learn - Training the model"
   ]
  },
  {
   "cell_type": "code",
   "execution_count": 9,
   "metadata": {
    "collapsed": false
   },
   "outputs": [],
   "source": [
    "from sklearn.pipeline import Pipeline\n",
    "from sklearn.preprocessing import Imputer\n",
    "from sklearn.ensemble import AdaBoostClassifier, RandomForestClassifier, ExtraTreesClassifier, BaggingClassifier, GradientBoostingClassifier\n",
    "from sklearn.tree import DecisionTreeClassifier\n",
    "\n",
    "imputer = Imputer(missing_values=-1)\n",
    "\n",
    "classifier = DecisionTreeClassifier()\n",
    "\n",
    "pipeline = Pipeline([\n",
    "    ('imp', imputer),\n",
    "    ('clf', classifier),\n",
    "])"
   ]
  },
  {
   "cell_type": "markdown",
   "metadata": {},
   "source": [
    "We now include the mean-median comparison into our pipeline."
   ]
  },
  {
   "cell_type": "code",
   "execution_count": 10,
   "metadata": {
    "collapsed": false
   },
   "outputs": [],
   "source": [
    "parameter_grid = {\n",
    "    'imp__strategy': ['mean', 'median'],\n",
    "    'clf__max_features': [0.5, 1],\n",
    "    'clf__max_depth': [5, None],\n",
    "}"
   ]
  },
  {
   "cell_type": "code",
   "execution_count": 11,
   "metadata": {
    "collapsed": false
   },
   "outputs": [
    {
     "name": "stdout",
     "output_type": "stream",
     "text": [
      "Fitting 5 folds for each of 8 candidates, totalling 40 fits\n",
      "[CV] clf__max_features=0.5, clf__max_depth=5, imp__strategy=mean .....\n",
      "[CV]  clf__max_features=0.5, clf__max_depth=5, imp__strategy=mean, score=0.804469 -   0.0s\n",
      "[CV] clf__max_features=0.5, clf__max_depth=5, imp__strategy=mean .....\n",
      "[CV]  clf__max_features=0.5, clf__max_depth=5, imp__strategy=mean, score=0.648045 -   0.0s\n",
      "[CV] clf__max_features=0.5, clf__max_depth=5, imp__strategy=mean .....\n",
      "[CV]  clf__max_features=0.5, clf__max_depth=5, imp__strategy=mean, score=0.792135 -   0.0s\n",
      "[CV] clf__max_features=0.5, clf__max_depth=5, imp__strategy=mean .....\n",
      "[CV]  clf__max_features=0.5, clf__max_depth=5, imp__strategy=mean, score=0.775281 -   0.0s\n",
      "[CV] clf__max_features=0.5, clf__max_depth=5, imp__strategy=mean .....\n",
      "[CV]  clf__max_features=0.5, clf__max_depth=5, imp__strategy=mean, score=0.819209 -   0.0s\n",
      "[CV] clf__max_features=0.5, clf__max_depth=5, imp__strategy=median ...\n",
      "[CV]  clf__max_features=0.5, clf__max_depth=5, imp__strategy=median, score=0.810056 -   0.0s\n",
      "[CV] clf__max_features=0.5, clf__max_depth=5, imp__strategy=median ...\n",
      "[CV]  clf__max_features=0.5, clf__max_depth=5, imp__strategy=median, score=0.815642 -   0.0s\n",
      "[CV] clf__max_features=0.5, clf__max_depth=5, imp__strategy=median ...\n",
      "[CV]  clf__max_features=0.5, clf__max_depth=5, imp__strategy=median, score=0.825843 -   0.0s\n",
      "[CV] clf__max_features=0.5, clf__max_depth=5, imp__strategy=median ...\n",
      "[CV]  clf__max_features=0.5, clf__max_depth=5, imp__strategy=median, score=0.792135 -   0.0s\n",
      "[CV] clf__max_features=0.5, clf__max_depth=5, imp__strategy=median ...\n",
      "[CV]  clf__max_features=0.5, clf__max_depth=5, imp__strategy=median, score=0.813559 -   0.0s\n",
      "[CV] clf__max_features=1, clf__max_depth=5, imp__strategy=mean .......\n",
      "[CV]  clf__max_features=1, clf__max_depth=5, imp__strategy=mean, score=0.737430 -   0.0s\n",
      "[CV] clf__max_features=1, clf__max_depth=5, imp__strategy=mean .......\n",
      "[CV]  clf__max_features=1, clf__max_depth=5, imp__strategy=mean, score=0.782123 -   0.0s\n",
      "[CV] clf__max_features=1, clf__max_depth=5, imp__strategy=mean .......\n",
      "[CV]  clf__max_features=1, clf__max_depth=5, imp__strategy=mean, score=0.797753 -   0.0s\n",
      "[CV] clf__max_features=1, clf__max_depth=5, imp__strategy=mean .......\n",
      "[CV]  clf__max_features=1, clf__max_depth=5, imp__strategy=mean, score=0.769663 -   0.0s\n",
      "[CV] clf__max_features=1, clf__max_depth=5, imp__strategy=mean .......\n",
      "[CV]  clf__max_features=1, clf__max_depth=5, imp__strategy=mean, score=0.734463 -   0.0s\n",
      "[CV] clf__max_features=1, clf__max_depth=5, imp__strategy=median .....\n",
      "[CV]  clf__max_features=1, clf__max_depth=5, imp__strategy=median, score=0.798883 -   0.0s\n",
      "[CV] clf__max_features=1, clf__max_depth=5, imp__strategy=median .....\n",
      "[CV]  clf__max_features=1, clf__max_depth=5, imp__strategy=median, score=0.826816 -   0.0s\n",
      "[CV] clf__max_features=1, clf__max_depth=5, imp__strategy=median .....\n",
      "[CV]  clf__max_features=1, clf__max_depth=5, imp__strategy=median, score=0.713483 -   0.0s\n",
      "[CV] clf__max_features=1, clf__max_depth=5, imp__strategy=median .....\n",
      "[CV]  clf__max_features=1, clf__max_depth=5, imp__strategy=median, score=0.696629 -   0.0s\n",
      "[CV] clf__max_features=1, clf__max_depth=5, imp__strategy=median .....\n",
      "[CV]  clf__max_features=1, clf__max_depth=5, imp__strategy=median, score=0.824859 -   0.0s\n",
      "[CV] clf__max_features=0.5, clf__max_depth=None, imp__strategy=mean ..\n",
      "[CV]  clf__max_features=0.5, clf__max_depth=None, imp__strategy=mean, score=0.765363 -   0.0s\n",
      "[CV] clf__max_features=0.5, clf__max_depth=None, imp__strategy=mean ..\n",
      "[CV]  clf__max_features=0.5, clf__max_depth=None, imp__strategy=mean, score=0.782123 -   0.0s\n",
      "[CV] clf__max_features=0.5, clf__max_depth=None, imp__strategy=mean ..\n",
      "[CV]  clf__max_features=0.5, clf__max_depth=None, imp__strategy=mean, score=0.808989 -   0.0s\n",
      "[CV] clf__max_features=0.5, clf__max_depth=None, imp__strategy=mean ..\n",
      "[CV]  clf__max_features=0.5, clf__max_depth=None, imp__strategy=mean, score=0.752809 -   0.0s\n",
      "[CV] clf__max_features=0.5, clf__max_depth=None, imp__strategy=mean ..\n",
      "[CV]  clf__max_features=0.5, clf__max_depth=None, imp__strategy=mean, score=0.807910 -   0.0s"
     ]
    },
    {
     "name": "stderr",
     "output_type": "stream",
     "text": [
      "[Parallel(n_jobs=1)]: Done   1 jobs       | elapsed:    0.0s\n",
      "[Parallel(n_jobs=1)]: Done  32 jobs       | elapsed:    0.0s\n"
     ]
    },
    {
     "name": "stdout",
     "output_type": "stream",
     "text": [
      "\n",
      "[CV] clf__max_features=0.5, clf__max_depth=None, imp__strategy=median \n",
      "[CV]  clf__max_features=0.5, clf__max_depth=None, imp__strategy=median, score=0.748603 -   0.0s\n",
      "[CV] clf__max_features=0.5, clf__max_depth=None, imp__strategy=median \n",
      "[CV]  clf__max_features=0.5, clf__max_depth=None, imp__strategy=median, score=0.804469 -   0.0s\n",
      "[CV] clf__max_features=0.5, clf__max_depth=None, imp__strategy=median \n",
      "[CV]  clf__max_features=0.5, clf__max_depth=None, imp__strategy=median, score=0.803371 -   0.0s\n",
      "[CV] clf__max_features=0.5, clf__max_depth=None, imp__strategy=median \n",
      "[CV]  clf__max_features=0.5, clf__max_depth=None, imp__strategy=median, score=0.780899 -   0.0s\n",
      "[CV] clf__max_features=0.5, clf__max_depth=None, imp__strategy=median \n",
      "[CV]  clf__max_features=0.5, clf__max_depth=None, imp__strategy=median, score=0.774011 -   0.0s\n",
      "[CV] clf__max_features=1, clf__max_depth=None, imp__strategy=mean ....\n",
      "[CV]  clf__max_features=1, clf__max_depth=None, imp__strategy=mean, score=0.715084 -   0.0s\n",
      "[CV] clf__max_features=1, clf__max_depth=None, imp__strategy=mean ....\n",
      "[CV]  clf__max_features=1, clf__max_depth=None, imp__strategy=mean, score=0.720670 -   0.0s\n",
      "[CV] clf__max_features=1, clf__max_depth=None, imp__strategy=mean ....\n",
      "[CV]  clf__max_features=1, clf__max_depth=None, imp__strategy=mean, score=0.741573 -   0.0s\n",
      "[CV] clf__max_features=1, clf__max_depth=None, imp__strategy=mean ....\n",
      "[CV]  clf__max_features=1, clf__max_depth=None, imp__strategy=mean, score=0.758427 -   0.0s\n",
      "[CV] clf__max_features=1, clf__max_depth=None, imp__strategy=mean ....\n",
      "[CV]  clf__max_features=1, clf__max_depth=None, imp__strategy=mean, score=0.774011 -   0.0s\n",
      "[CV] clf__max_features=1, clf__max_depth=None, imp__strategy=median ..\n",
      "[CV]  clf__max_features=1, clf__max_depth=None, imp__strategy=median, score=0.731844 -   0.0s\n",
      "[CV] clf__max_features=1, clf__max_depth=None, imp__strategy=median ..\n",
      "[CV]  clf__max_features=1, clf__max_depth=None, imp__strategy=median, score=0.737430 -   0.0s\n",
      "[CV] clf__max_features=1, clf__max_depth=None, imp__strategy=median ..\n",
      "[CV]  clf__max_features=1, clf__max_depth=None, imp__strategy=median, score=0.786517 -   0.0s\n",
      "[CV] clf__max_features=1, clf__max_depth=None, imp__strategy=median ..\n",
      "[CV]  clf__max_features=1, clf__max_depth=None, imp__strategy=median, score=0.741573 -   0.0s\n",
      "[CV] clf__max_features=1, clf__max_depth=None, imp__strategy=median ..\n",
      "[CV]  clf__max_features=1, clf__max_depth=None, imp__strategy=median, score=0.745763 -   0.0s\n"
     ]
    },
    {
     "name": "stderr",
     "output_type": "stream",
     "text": [
      "[Parallel(n_jobs=1)]: Done  40 out of  40 | elapsed:    0.1s finished\n"
     ]
    },
    {
     "data": {
      "text/plain": [
       "GridSearchCV(cv=5,\n",
       "       estimator=Pipeline(steps=[('imp', Imputer(axis=0, copy=True, missing_values=-1, strategy='mean', verbose=0)), ('clf', DecisionTreeClassifier(compute_importances=None, criterion='gini',\n",
       "            max_depth=None, max_features=None, max_leaf_nodes=None,\n",
       "            min_density=None, min_samples_leaf=1, min_samples_split=2,\n",
       "            random_state=None, splitter='best'))]),\n",
       "       fit_params={}, iid=True, loss_func=None, n_jobs=1,\n",
       "       param_grid={'clf__max_features': [0.5, 1], 'clf__max_depth': [5, None], 'imp__strategy': ['mean', 'median']},\n",
       "       pre_dispatch='2*n_jobs', refit=True, score_func=None, scoring=None,\n",
       "       verbose=3)"
      ]
     },
     "execution_count": 11,
     "metadata": {},
     "output_type": "execute_result"
    }
   ],
   "source": [
    "grid_search = GridSearchCV(pipeline, parameter_grid, cv=5, verbose=3)\n",
    "grid_search.fit(train_data[0:,2:], train_data[0:,0])"
   ]
  },
  {
   "cell_type": "code",
   "execution_count": 12,
   "metadata": {
    "collapsed": false
   },
   "outputs": [
    {
     "data": {
      "text/plain": [
       "{'clf__max_depth': 5, 'clf__max_features': 0.5, 'imp__strategy': 'median'}"
      ]
     },
     "execution_count": 12,
     "metadata": {},
     "output_type": "execute_result"
    }
   ],
   "source": [
    "sorted(grid_search.grid_scores_, key=lambda x: x.mean_validation_score)\n",
    "grid_search.best_score_\n",
    "grid_search.best_params_"
   ]
  },
  {
   "cell_type": "markdown",
   "metadata": {},
   "source": [
    "As before, we replace the -1 values in the column Age by the better performer."
   ]
  },
  {
   "cell_type": "code",
   "execution_count": 17,
   "metadata": {
    "collapsed": false
   },
   "outputs": [],
   "source": [
    "df['Age'] = df['Age'].map(lambda x: age_mean if x == -1 else x)"
   ]
  },
  {
   "cell_type": "code",
   "execution_count": 18,
   "metadata": {
    "collapsed": false
   },
   "outputs": [],
   "source": [
    "train_data = df.values"
   ]
  },
  {
   "cell_type": "code",
   "execution_count": 19,
   "metadata": {
    "collapsed": false
   },
   "outputs": [],
   "source": [
    "model = RandomForestClassifier(n_estimators = 100, max_features=0.5, max_depth=5)\n",
    "model = model.fit(train_data[0:,2:],train_data[0:,0])"
   ]
  },
  {
   "cell_type": "markdown",
   "metadata": {},
   "source": [
    "## Scikit-learn - Making predictions"
   ]
  },
  {
   "cell_type": "code",
   "execution_count": 20,
   "metadata": {
    "collapsed": false
   },
   "outputs": [],
   "source": [
    "df_test = pd.read_csv('../data/test.csv')\n",
    "\n",
    "df_test = df_test.drop(['Name', 'Ticket', 'Cabin'], axis=1)"
   ]
  },
  {
   "cell_type": "markdown",
   "metadata": {},
   "source": [
    "Similarly we fill in the NAs in the test data with the better performer."
   ]
  },
  {
   "cell_type": "code",
   "execution_count": 21,
   "metadata": {
    "collapsed": false
   },
   "outputs": [],
   "source": [
    "df_test['Age'] = df_test['Age'].fillna(age_mean)"
   ]
  },
  {
   "cell_type": "code",
   "execution_count": 22,
   "metadata": {
    "collapsed": false
   },
   "outputs": [
    {
     "name": "stderr",
     "output_type": "stream",
     "text": [
      "/Users/savarin/anaconda/envs/py27/lib/python2.7/site-packages/pandas/core/index.py:503: FutureWarning: scalar indexers for index type Int64Index should be integers and not floating point\n",
      "  type(self).__name__),FutureWarning)\n"
     ]
    }
   ],
   "source": [
    "fare_means = df.pivot_table('Fare', index='Pclass', aggfunc='mean')\n",
    "df_test['Fare'] = df_test[['Fare', 'Pclass']].apply(lambda x:\n",
    "                            fare_means[x['Pclass']] if pd.isnull(x['Fare'])\n",
    "                            else x['Fare'], axis=1)\n",
    "\n",
    "df_test['Gender'] = df_test['Sex'].map({'female': 0, 'male': 1}).astype(int)\n",
    "df_test = pd.concat([df_test, pd.get_dummies(df_test['Embarked'], prefix='Embarked')],\n",
    "                axis=1)\n",
    "\n",
    "df_test = df_test.drop(['Sex', 'Embarked'], axis=1)\n",
    "\n",
    "test_data = df_test.values\n",
    "\n",
    "output = model.predict(test_data[:,1:])"
   ]
  },
  {
   "cell_type": "markdown",
   "metadata": {},
   "source": [
    "## Pandas - Preparing for submission"
   ]
  },
  {
   "cell_type": "code",
   "execution_count": 23,
   "metadata": {
    "collapsed": false
   },
   "outputs": [],
   "source": [
    "result = np.c_[test_data[:,0].astype(int), output.astype(int)]\n",
    "\n",
    "\n",
    "df_result = pd.DataFrame(result[:,0:2], columns=['PassengerId', 'Survived'])\n",
    "df_result.to_csv('../results/titanic_1-5.csv', index=False)"
   ]
  }
 ],
 "metadata": {
  "kernelspec": {
   "display_name": "Python 2",
   "language": "python",
   "name": "python2"
  },
  "language_info": {
   "codemirror_mode": {
    "name": "ipython",
    "version": 2
   },
   "file_extension": ".py",
   "mimetype": "text/x-python",
   "name": "python",
   "nbconvert_exporter": "python",
   "pygments_lexer": "ipython2",
   "version": "2.7.8"
  }
 },
 "nbformat": 4,
 "nbformat_minor": 0
}
