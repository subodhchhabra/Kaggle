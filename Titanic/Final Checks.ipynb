{
 "cells": [
  {
   "cell_type": "markdown",
   "metadata": {},
   "source": [
    "# Section 1-5 - Final Checks"
   ]
  },
  {
   "cell_type": "markdown",
   "metadata": {},
   "source": [
    "We now arrive at the last piece of puzzle - comparing the mean against the median when filling in the training data."
   ]
  },
  {
   "cell_type": "markdown",
   "metadata": {},
   "source": [
    "## Pandas - Extracting data"
   ]
  },
  {
   "cell_type": "code",
   "execution_count": 58,
   "metadata": {
    "collapsed": false
   },
   "outputs": [],
   "source": [
    "import pandas as pd\n",
    "import numpy as np\n",
    "\n",
    "df = pd.read_csv('C:/Vindico/Projects/Data/Kaggle/Competition/Titanic/train.csv')"
   ]
  },
  {
   "cell_type": "markdown",
   "metadata": {},
   "source": [
    "## Pandas - Cleaning data"
   ]
  },
  {
   "cell_type": "code",
   "execution_count": 59,
   "metadata": {
    "collapsed": false
   },
   "outputs": [],
   "source": [
    "df = df.drop(['Name', 'Ticket', 'Cabin'], axis=1)"
   ]
  },
  {
   "cell_type": "markdown",
   "metadata": {},
   "source": [
    "As we don't know whether the mean or the median will do better, we calculate both."
   ]
  },
  {
   "cell_type": "code",
   "execution_count": 60,
   "metadata": {
    "collapsed": false
   },
   "outputs": [],
   "source": [
    "age_mean = df['Age'].mean()\n",
    "age_median = df['Age'].median()"
   ]
  },
  {
   "cell_type": "code",
   "execution_count": 61,
   "metadata": {
    "collapsed": true
   },
   "outputs": [],
   "source": [
    "from scipy.stats import mode\n",
    "\n",
    "mode_embarked = mode(df['Embarked'])[0][0]"
   ]
  },
  {
   "cell_type": "code",
   "execution_count": 62,
   "metadata": {
    "collapsed": false
   },
   "outputs": [
    {
     "name": "stdout",
     "output_type": "stream",
     "text": [
      "S\n"
     ]
    }
   ],
   "source": [
    "print mode_embarked"
   ]
  },
  {
   "cell_type": "code",
   "execution_count": 63,
   "metadata": {
    "collapsed": false
   },
   "outputs": [],
   "source": [
    "df['Embarked'] = df['Embarked'].fillna(mode_embarked)\n",
    "\n",
    "df['Gender'] = df['Sex'].map({'female': 0, 'male': 1}).astype(int)\n",
    "\n",
    "pd.get_dummies(df['Embarked'], prefix='Embarked').head(10)\n",
    "df = pd.concat([df, pd.get_dummies(df['Embarked'], prefix='Embarked')], axis=1)\n",
    "\n",
    "df = df.drop(['Sex', 'Embarked'], axis=1)\n",
    "\n",
    "cols = df.columns.tolist()\n",
    "cols = [cols[1]] + cols[0:1] + cols[2:]\n",
    "df = df[cols]\n",
    "\n",
    "df = df.fillna(-1)\n",
    "\n",
    "train_data = df.values"
   ]
  },
  {
   "cell_type": "code",
   "execution_count": 64,
   "metadata": {
    "collapsed": false
   },
   "outputs": [
    {
     "data": {
      "text/html": [
       "<div style=\"max-height:1000px;max-width:1500px;overflow:auto;\">\n",
       "<table border=\"1\" class=\"dataframe\">\n",
       "  <thead>\n",
       "    <tr style=\"text-align: right;\">\n",
       "      <th></th>\n",
       "      <th>Survived</th>\n",
       "      <th>PassengerId</th>\n",
       "      <th>Pclass</th>\n",
       "      <th>Age</th>\n",
       "      <th>SibSp</th>\n",
       "      <th>Parch</th>\n",
       "      <th>Fare</th>\n",
       "      <th>Gender</th>\n",
       "      <th>Embarked_C</th>\n",
       "      <th>Embarked_Q</th>\n",
       "      <th>Embarked_S</th>\n",
       "    </tr>\n",
       "  </thead>\n",
       "  <tbody>\n",
       "    <tr>\n",
       "      <th>0</th>\n",
       "      <td> 0</td>\n",
       "      <td> 1</td>\n",
       "      <td> 3</td>\n",
       "      <td> 22</td>\n",
       "      <td> 1</td>\n",
       "      <td> 0</td>\n",
       "      <td>  7.2500</td>\n",
       "      <td> 1</td>\n",
       "      <td> 0</td>\n",
       "      <td> 0</td>\n",
       "      <td> 1</td>\n",
       "    </tr>\n",
       "    <tr>\n",
       "      <th>1</th>\n",
       "      <td> 1</td>\n",
       "      <td> 2</td>\n",
       "      <td> 1</td>\n",
       "      <td> 38</td>\n",
       "      <td> 1</td>\n",
       "      <td> 0</td>\n",
       "      <td> 71.2833</td>\n",
       "      <td> 0</td>\n",
       "      <td> 1</td>\n",
       "      <td> 0</td>\n",
       "      <td> 0</td>\n",
       "    </tr>\n",
       "    <tr>\n",
       "      <th>2</th>\n",
       "      <td> 1</td>\n",
       "      <td> 3</td>\n",
       "      <td> 3</td>\n",
       "      <td> 26</td>\n",
       "      <td> 0</td>\n",
       "      <td> 0</td>\n",
       "      <td>  7.9250</td>\n",
       "      <td> 0</td>\n",
       "      <td> 0</td>\n",
       "      <td> 0</td>\n",
       "      <td> 1</td>\n",
       "    </tr>\n",
       "    <tr>\n",
       "      <th>3</th>\n",
       "      <td> 1</td>\n",
       "      <td> 4</td>\n",
       "      <td> 1</td>\n",
       "      <td> 35</td>\n",
       "      <td> 1</td>\n",
       "      <td> 0</td>\n",
       "      <td> 53.1000</td>\n",
       "      <td> 0</td>\n",
       "      <td> 0</td>\n",
       "      <td> 0</td>\n",
       "      <td> 1</td>\n",
       "    </tr>\n",
       "    <tr>\n",
       "      <th>4</th>\n",
       "      <td> 0</td>\n",
       "      <td> 5</td>\n",
       "      <td> 3</td>\n",
       "      <td> 35</td>\n",
       "      <td> 0</td>\n",
       "      <td> 0</td>\n",
       "      <td>  8.0500</td>\n",
       "      <td> 1</td>\n",
       "      <td> 0</td>\n",
       "      <td> 0</td>\n",
       "      <td> 1</td>\n",
       "    </tr>\n",
       "  </tbody>\n",
       "</table>\n",
       "</div>"
      ],
      "text/plain": [
       "   Survived  PassengerId  Pclass  Age  SibSp  Parch     Fare  Gender  \\\n",
       "0         0            1       3   22      1      0   7.2500       1   \n",
       "1         1            2       1   38      1      0  71.2833       0   \n",
       "2         1            3       3   26      0      0   7.9250       0   \n",
       "3         1            4       1   35      1      0  53.1000       0   \n",
       "4         0            5       3   35      0      0   8.0500       1   \n",
       "\n",
       "   Embarked_C  Embarked_Q  Embarked_S  \n",
       "0           0           0           1  \n",
       "1           1           0           0  \n",
       "2           0           0           1  \n",
       "3           0           0           1  \n",
       "4           0           0           1  "
      ]
     },
     "execution_count": 64,
     "metadata": {},
     "output_type": "execute_result"
    }
   ],
   "source": [
    "df.head()"
   ]
  },
  {
   "cell_type": "markdown",
   "metadata": {},
   "source": [
    "## Scikit-learn - Training the model"
   ]
  },
  {
   "cell_type": "code",
   "execution_count": 65,
   "metadata": {
    "collapsed": false
   },
   "outputs": [],
   "source": [
    "from sklearn.pipeline import Pipeline\n",
    "from sklearn.preprocessing import Imputer\n",
    "from sklearn.neighbors import KNeighborsClassifier\n",
    "from sklearn.svm import SVC, LinearSVC\n",
    "from sklearn.naive_bayes import GaussianNB\n",
    "from sklearn.linear_model import LinearRegression, LogisticRegression\n",
    "from sklearn.ensemble import AdaBoostClassifier, RandomForestClassifier, ExtraTreesClassifier, BaggingClassifier, GradientBoostingClassifier\n",
    "from sklearn.tree import DecisionTreeClassifier\n",
    "\n",
    "imputer = Imputer(missing_values=-1)\n",
    "\n",
    "classifier = ExtraTreesClassifier()\n",
    "\n",
    "pipeline = Pipeline([\n",
    "    ('imp', imputer),\n",
    "    ('clf', classifier),\n",
    "])"
   ]
  },
  {
   "cell_type": "markdown",
   "metadata": {},
   "source": [
    "We now include the mean-median comparison into our pipeline."
   ]
  },
  {
   "cell_type": "code",
   "execution_count": 66,
   "metadata": {
    "collapsed": false
   },
   "outputs": [],
   "source": [
    "parameter_grid = {\n",
    "    'imp__strategy': ['mean', 'median'],\n",
    "    'clf__max_features': [0.5, 1],\n",
    "    'clf__max_depth': [5, None],\n",
    "}"
   ]
  },
  {
   "cell_type": "code",
   "execution_count": 67,
   "metadata": {
    "collapsed": false
   },
   "outputs": [
    {
     "name": "stdout",
     "output_type": "stream",
     "text": [
      "Fitting 5 folds for each of 8 candidates, totalling 40 fits\n",
      "[CV] clf__max_features=0.5, clf__max_depth=5, imp__strategy=mean .....\n",
      "[CV]  clf__max_features=0.5, clf__max_depth=5, imp__strategy=mean, score=0.793296 -   0.0s\n",
      "[CV] clf__max_features=0.5, clf__max_depth=5, imp__strategy=mean .....\n",
      "[CV]  clf__max_features=0.5, clf__max_depth=5, imp__strategy=mean, score=0.815642 -   0.0s\n",
      "[CV] clf__max_features=0.5, clf__max_depth=5, imp__strategy=mean .....\n",
      "[CV]  clf__max_features=0.5, clf__max_depth=5, imp__strategy=mean, score=0.797753 -   0.0s\n",
      "[CV] clf__max_features=0.5, clf__max_depth=5, imp__strategy=mean .....\n",
      "[CV]  clf__max_features=0.5, clf__max_depth=5, imp__strategy=mean, score=0.792135 -   0.0s\n",
      "[CV] clf__max_features=0.5, clf__max_depth=5, imp__strategy=mean .....\n",
      "[CV]  clf__max_features=0.5, clf__max_depth=5, imp__strategy=mean, score=0.870056 -   0.0s\n",
      "[CV] clf__max_features=0.5, clf__max_depth=5, imp__strategy=median ...\n",
      "[CV]  clf__max_features=0.5, clf__max_depth=5, imp__strategy=median, score=0.782123 -   0.0s\n",
      "[CV] clf__max_features=0.5, clf__max_depth=5, imp__strategy=median ...\n",
      "[CV]  clf__max_features=0.5, clf__max_depth=5, imp__strategy=median, score=0.826816 -   0.0s\n",
      "[CV] clf__max_features=0.5, clf__max_depth=5, imp__strategy=median ...\n",
      "[CV]  clf__max_features=0.5, clf__max_depth=5, imp__strategy=median, score=0.808989 -   0.0s\n",
      "[CV] clf__max_features=0.5, clf__max_depth=5, imp__strategy=median ...\n",
      "[CV]  clf__max_features=0.5, clf__max_depth=5, imp__strategy=median, score=0.786517 -   0.0s\n",
      "[CV] clf__max_features=0.5, clf__max_depth=5, imp__strategy=median ...\n",
      "[CV]  clf__max_features=0.5, clf__max_depth=5, imp__strategy=median, score=0.847458 -   0.0s\n",
      "[CV] clf__max_features=1, clf__max_depth=5, imp__strategy=mean .......\n",
      "[CV]  clf__max_features=1, clf__max_depth=5, imp__strategy=mean, score=0.804469 -   0.0s\n",
      "[CV] clf__max_features=1, clf__max_depth=5, imp__strategy=mean .......\n",
      "[CV]  clf__max_features=1, clf__max_depth=5, imp__strategy=mean, score=0.815642 -   0.0s\n",
      "[CV] clf__max_features=1, clf__max_depth=5, imp__strategy=mean .......\n",
      "[CV]  clf__max_features=1, clf__max_depth=5, imp__strategy=mean, score=0.792135 -   0.0s\n",
      "[CV] clf__max_features=1, clf__max_depth=5, imp__strategy=mean .......\n",
      "[CV]  clf__max_features=1, clf__max_depth=5, imp__strategy=mean, score=0.797753 -   0.0s\n",
      "[CV] clf__max_features=1, clf__max_depth=5, imp__strategy=mean .......\n",
      "[CV]  clf__max_features=1, clf__max_depth=5, imp__strategy=mean, score=0.847458 -   0.0s\n",
      "[CV] clf__max_features=1, clf__max_depth=5, imp__strategy=median .....\n",
      "[CV]  clf__max_features=1, clf__max_depth=5, imp__strategy=median, score=0.798883 -   0.0s\n",
      "[CV] clf__max_features=1, clf__max_depth=5, imp__strategy=median .....\n",
      "[CV]  clf__max_features=1, clf__max_depth=5, imp__strategy=median, score=0.798883 -   0.0s\n",
      "[CV] clf__max_features=1, clf__max_depth=5, imp__strategy=median .....\n",
      "[CV]  clf__max_features=1, clf__max_depth=5, imp__strategy=median, score=0.825843 -   0.0s\n",
      "[CV] clf__max_features=1, clf__max_depth=5, imp__strategy=median .....\n",
      "[CV]  clf__max_features=1, clf__max_depth=5, imp__strategy=median, score=0.780899 -   0.0s\n",
      "[CV] clf__max_features=1, clf__max_depth=5, imp__strategy=median .....\n",
      "[CV]  clf__max_features=1, clf__max_depth=5, imp__strategy=median, score=0.819209 -   0.0s\n",
      "[CV] clf__max_features=0.5, clf__max_depth=None, imp__strategy=mean ..\n",
      "[CV]  clf__max_features=0.5, clf__max_depth=None, imp__strategy=mean, score=0.759777 -   0.0s\n",
      "[CV] clf__max_features=0.5, clf__max_depth=None, imp__strategy=mean ..\n",
      "[CV]  clf__max_features=0.5, clf__max_depth=None, imp__strategy=mean, score=0.770950 -   0.0s\n",
      "[CV] clf__max_features=0.5, clf__max_depth=None, imp__strategy=mean ..\n",
      "[CV]  clf__max_features=0.5, clf__max_depth=None, imp__strategy=mean, score=0.842697 -   0.0s\n",
      "[CV] clf__max_features=0.5, clf__max_depth=None, imp__strategy=mean ..\n",
      "[CV]  clf__max_features=0.5, clf__max_depth=None, imp__strategy=mean, score=0.775281 -   0.0s\n",
      "[CV] clf__max_features=0.5, clf__max_depth=None, imp__strategy=mean ..\n",
      "[CV]  clf__max_features=0.5, clf__max_depth=None, imp__strategy=mean, score=0.807910 -   0.0s\n",
      "[CV] clf__max_features=0.5, clf__max_depth=None, imp__strategy=median \n",
      "[CV]  clf__max_features=0.5, clf__max_depth=None, imp__strategy=median, score=0.770950 -   0.0s\n",
      "[CV] clf__max_features=0.5, clf__max_depth=None, imp__strategy=median \n",
      "[CV]  clf__max_features=0.5, clf__max_depth=None, imp__strategy=median, score=0.776536 -   0.0s\n",
      "[CV] clf__max_features=0.5, clf__max_depth=None, imp__strategy=median \n",
      "[CV]  clf__max_features=0.5, clf__max_depth=None, imp__strategy=median, score=0.820225 -   0.0s\n",
      "[CV] clf__max_features=0.5, clf__max_depth=None, imp__strategy=median \n",
      "[CV]  clf__max_features=0.5, clf__max_depth=None, imp__strategy=median, score=0.764045 -   0.0s\n",
      "[CV] clf__max_features=0.5, clf__max_depth=None, imp__strategy=median \n",
      "[CV]  clf__max_features=0.5, clf__max_depth=None, imp__strategy=median, score=0.796610 -   0.0s\n",
      "[CV] clf__max_features=1, clf__max_depth=None, imp__strategy=mean ....\n",
      "[CV]  clf__max_features=1, clf__max_depth=None, imp__strategy=mean, score=0.748603 -   0.0s\n",
      "[CV] clf__max_features=1, clf__max_depth=None, imp__strategy=mean ....\n",
      "[CV]  clf__max_features=1, clf__max_depth=None, imp__strategy=mean, score=0.759777 -   0.0s"
     ]
    },
    {
     "name": "stderr",
     "output_type": "stream",
     "text": [
      "[Parallel(n_jobs=1)]: Done   1 jobs       | elapsed:    0.0s\n",
      "[Parallel(n_jobs=1)]: Done  32 jobs       | elapsed:    0.4s\n"
     ]
    },
    {
     "name": "stdout",
     "output_type": "stream",
     "text": [
      "\n",
      "[CV] clf__max_features=1, clf__max_depth=None, imp__strategy=mean ....\n",
      "[CV]  clf__max_features=1, clf__max_depth=None, imp__strategy=mean, score=0.820225 -   0.0s\n",
      "[CV] clf__max_features=1, clf__max_depth=None, imp__strategy=mean ....\n",
      "[CV]  clf__max_features=1, clf__max_depth=None, imp__strategy=mean, score=0.775281 -   0.0s\n",
      "[CV] clf__max_features=1, clf__max_depth=None, imp__strategy=mean ....\n",
      "[CV]  clf__max_features=1, clf__max_depth=None, imp__strategy=mean, score=0.807910 -   0.0s\n",
      "[CV] clf__max_features=1, clf__max_depth=None, imp__strategy=median ..\n",
      "[CV]  clf__max_features=1, clf__max_depth=None, imp__strategy=median, score=0.765363 -   0.0s\n",
      "[CV] clf__max_features=1, clf__max_depth=None, imp__strategy=median ..\n",
      "[CV]  clf__max_features=1, clf__max_depth=None, imp__strategy=median, score=0.770950 -   0.0s\n",
      "[CV] clf__max_features=1, clf__max_depth=None, imp__strategy=median ..\n",
      "[CV]  clf__max_features=1, clf__max_depth=None, imp__strategy=median, score=0.825843 -   0.0s\n",
      "[CV] clf__max_features=1, clf__max_depth=None, imp__strategy=median ..\n",
      "[CV]  clf__max_features=1, clf__max_depth=None, imp__strategy=median, score=0.780899 -   0.0s\n",
      "[CV] clf__max_features=1, clf__max_depth=None, imp__strategy=median ..\n",
      "[CV]  clf__max_features=1, clf__max_depth=None, imp__strategy=median, score=0.824859 -   0.0s\n"
     ]
    },
    {
     "name": "stderr",
     "output_type": "stream",
     "text": [
      "[Parallel(n_jobs=1)]: Done  40 out of  40 | elapsed:    0.4s finished\n"
     ]
    },
    {
     "data": {
      "text/plain": [
       "GridSearchCV(cv=5,\n",
       "       estimator=Pipeline(steps=[('imp', Imputer(axis=0, copy=True, missing_values=-1, strategy='mean', verbose=0)), ('clf', ExtraTreesClassifier(bootstrap=False, compute_importances=None,\n",
       "           criterion='gini', max_depth=None, max_features='auto',\n",
       "           max_leaf_nodes=None, min_density=None, min_samples_leaf=1,\n",
       "           min_samples_split=2, n_estimators=10, n_jobs=1, oob_score=False,\n",
       "           random_state=None, verbose=0))]),\n",
       "       fit_params={}, iid=True, loss_func=None, n_jobs=1,\n",
       "       param_grid={'clf__max_features': [0.5, 1], 'clf__max_depth': [5, None], 'imp__strategy': ['mean', 'median']},\n",
       "       pre_dispatch='2*n_jobs', refit=True, score_func=None, scoring=None,\n",
       "       verbose=3)"
      ]
     },
     "execution_count": 67,
     "metadata": {},
     "output_type": "execute_result"
    }
   ],
   "source": [
    "grid_search = GridSearchCV(pipeline, parameter_grid, cv=5, verbose=3)\n",
    "grid_search.fit(train_data[0:,2:], train_data[0:,0])"
   ]
  },
  {
   "cell_type": "code",
   "execution_count": 68,
   "metadata": {
    "collapsed": false
   },
   "outputs": [
    {
     "data": {
      "text/plain": [
       "{'clf__max_depth': 5, 'clf__max_features': 0.5, 'imp__strategy': 'mean'}"
      ]
     },
     "execution_count": 68,
     "metadata": {},
     "output_type": "execute_result"
    }
   ],
   "source": [
    "sorted(grid_search.grid_scores_, key=lambda x: x.mean_validation_score)\n",
    "grid_search.best_score_\n",
    "grid_search.best_params_"
   ]
  },
  {
   "cell_type": "markdown",
   "metadata": {},
   "source": [
    "As before, we replace the -1 values in the column Age by the better performer."
   ]
  },
  {
   "cell_type": "code",
   "execution_count": 69,
   "metadata": {
    "collapsed": false
   },
   "outputs": [],
   "source": [
    "df['Age'] = df['Age'].map(lambda x: age_mean if x == -1 else x)"
   ]
  },
  {
   "cell_type": "code",
   "execution_count": 79,
   "metadata": {
    "collapsed": false
   },
   "outputs": [],
   "source": [
    "train_data = df.values"
   ]
  },
  {
   "cell_type": "code",
   "execution_count": 80,
   "metadata": {
    "collapsed": false
   },
   "outputs": [],
   "source": [
    "model = BaggingClassifier()\n",
    "model = model.fit(train_data[0:,2:],train_data[0:,0])"
   ]
  },
  {
   "cell_type": "markdown",
   "metadata": {},
   "source": [
    "## Scikit-learn - Making predictions"
   ]
  },
  {
   "cell_type": "code",
   "execution_count": 81,
   "metadata": {
    "collapsed": false
   },
   "outputs": [],
   "source": [
    "df_test = pd.read_csv('C:/Vindico/Projects/Data/Kaggle/Competition/Titanic/test.csv')\n",
    "\n",
    "df_test = df_test.drop(['Name', 'Ticket', 'Cabin'], axis=1)"
   ]
  },
  {
   "cell_type": "markdown",
   "metadata": {},
   "source": [
    "Similarly we fill in the NAs in the test data with the better performer."
   ]
  },
  {
   "cell_type": "code",
   "execution_count": 82,
   "metadata": {
    "collapsed": false
   },
   "outputs": [],
   "source": [
    "df_test['Age'] = df_test['Age'].fillna(age_mean)"
   ]
  },
  {
   "cell_type": "code",
   "execution_count": 83,
   "metadata": {
    "collapsed": false
   },
   "outputs": [],
   "source": [
    "fare_means = df.pivot_table('Fare', index='Pclass', aggfunc='mean')\n",
    "df_test['Fare'] = df_test[['Fare', 'Pclass']].apply(lambda x:\n",
    "                            fare_means[x['Pclass']] if pd.isnull(x['Fare'])\n",
    "                            else x['Fare'], axis=1)\n",
    "\n",
    "df_test['Gender'] = df_test['Sex'].map({'female': 0, 'male': 1}).astype(int)\n",
    "df_test = pd.concat([df_test, pd.get_dummies(df_test['Embarked'], prefix='Embarked')],\n",
    "                axis=1)\n",
    "\n",
    "df_test = df_test.drop(['Sex', 'Embarked'], axis=1)\n",
    "\n",
    "test_data = df_test.values\n",
    "\n",
    "output = model.predict(test_data[:,1:])"
   ]
  },
  {
   "cell_type": "markdown",
   "metadata": {},
   "source": [
    "## Pandas - Preparing for submission"
   ]
  },
  {
   "cell_type": "code",
   "execution_count": 84,
   "metadata": {
    "collapsed": false
   },
   "outputs": [],
   "source": [
    "result = np.c_[test_data[:,0].astype(int), output.astype(int)]\n",
    "\n",
    "\n",
    "df_result = pd.DataFrame(result[:,0:2], columns=['PassengerId', 'Survived'])\n",
    "df_result.to_csv('../titanic_Bagging.csv', index=False)"
   ]
  },
  {
   "cell_type": "code",
   "execution_count": null,
   "metadata": {
    "collapsed": true
   },
   "outputs": [],
   "source": []
  }
 ],
 "metadata": {
  "kernelspec": {
   "display_name": "Python 2",
   "language": "python",
   "name": "python2"
  },
  "language_info": {
   "codemirror_mode": {
    "name": "ipython",
    "version": 2
   },
   "file_extension": ".py",
   "mimetype": "text/x-python",
   "name": "python",
   "nbconvert_exporter": "python",
   "pygments_lexer": "ipython2",
   "version": "2.7.8"
  }
 },
 "nbformat": 4,
 "nbformat_minor": 0
}
