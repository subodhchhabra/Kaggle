{
 "metadata": {
  "name": "",
  "signature": "sha256:051efb394b3311985950511ce0edc95c5d879b14b02642fd0b6f39532604b3be"
 },
 "nbformat": 3,
 "nbformat_minor": 0,
 "worksheets": [
  {
   "cells": [
    {
     "cell_type": "heading",
     "level": 1,
     "metadata": {},
     "source": [
      "Section 1-5 - Final Checks"
     ]
    },
    {
     "cell_type": "markdown",
     "metadata": {},
     "source": [
      "We now arrive at the last piece of puzzle - comparing the mean against the median when filling in the training data."
     ]
    },
    {
     "cell_type": "heading",
     "level": 2,
     "metadata": {},
     "source": [
      "Pandas - Extracting data"
     ]
    },
    {
     "cell_type": "code",
     "collapsed": false,
     "input": [
      "import pandas as pd\n",
      "import numpy as np\n",
      "\n",
      "df = pd.read_csv('../data/train.csv')"
     ],
     "language": "python",
     "metadata": {},
     "outputs": [],
     "prompt_number": 9
    },
    {
     "cell_type": "heading",
     "level": 2,
     "metadata": {},
     "source": [
      "Pandas - Cleaning data"
     ]
    },
    {
     "cell_type": "code",
     "collapsed": false,
     "input": [
      "df = df.drop(['Name', 'Ticket', 'Cabin'], axis=1)"
     ],
     "language": "python",
     "metadata": {},
     "outputs": [],
     "prompt_number": 10
    },
    {
     "cell_type": "markdown",
     "metadata": {},
     "source": [
      "As we don't know whether the mean or the median will do better, we calculate both."
     ]
    },
    {
     "cell_type": "code",
     "collapsed": false,
     "input": [
      "age_mean = df['Age'].mean()\n",
      "age_median = df['Age'].median()"
     ],
     "language": "python",
     "metadata": {},
     "outputs": [],
     "prompt_number": 11
    },
    {
     "cell_type": "code",
     "collapsed": false,
     "input": [
      "from scipy.stats import mode\n",
      "\n",
      "mode_embarked = mode(df['Embarked'])[0][0]\n",
      "df['Embarked'] = df['Embarked'].fillna(mode_embarked)\n",
      "\n",
      "df['Gender'] = df['Sex'].map({'female': 0, 'male': 1}).astype(int)\n",
      "\n",
      "pd.get_dummies(df['Embarked'], prefix='Embarked').head(10)\n",
      "df = pd.concat([df, pd.get_dummies(df['Embarked'], prefix='Embarked')], axis=1)\n",
      "\n",
      "df = df.drop(['Sex', 'Embarked'], axis=1)\n",
      "\n",
      "cols = df.columns.tolist()\n",
      "cols = [cols[1]] + cols[0:1] + cols[2:]\n",
      "df = df[cols]\n",
      "\n",
      "df = df.fillna(-1)\n",
      "\n",
      "train_data = df.values"
     ],
     "language": "python",
     "metadata": {},
     "outputs": [],
     "prompt_number": 12
    },
    {
     "cell_type": "heading",
     "level": 2,
     "metadata": {},
     "source": [
      "Scikit-learn - Training the model"
     ]
    },
    {
     "cell_type": "code",
     "collapsed": false,
     "input": [
      "from sklearn.pipeline import Pipeline\n",
      "from sklearn.preprocessing import Imputer\n",
      "from sklearn.ensemble import RandomForestClassifier\n",
      "from sklearn.grid_search import GridSearchCV\n",
      "\n",
      "imputer = Imputer(missing_values=-1)\n",
      "\n",
      "classifier = RandomForestClassifier(n_estimators=100)\n",
      "\n",
      "pipeline = Pipeline([\n",
      "    ('imp', imputer),\n",
      "    ('clf', classifier),\n",
      "])"
     ],
     "language": "python",
     "metadata": {},
     "outputs": [],
     "prompt_number": 13
    },
    {
     "cell_type": "markdown",
     "metadata": {},
     "source": [
      "We now include the mean-median comparison into our pipeline."
     ]
    },
    {
     "cell_type": "code",
     "collapsed": false,
     "input": [
      "parameter_grid = {\n",
      "    'imp__strategy': ['mean', 'median'],\n",
      "    'clf__max_features': [0.5, 1],\n",
      "    'clf__max_depth': [5, None],\n",
      "}"
     ],
     "language": "python",
     "metadata": {},
     "outputs": [],
     "prompt_number": 14
    },
    {
     "cell_type": "code",
     "collapsed": false,
     "input": [
      "grid_search = GridSearchCV(pipeline, parameter_grid, cv=5, verbose=3)\n",
      "grid_search.fit(train_data[0:,2:], train_data[0:,0])"
     ],
     "language": "python",
     "metadata": {},
     "outputs": [
      {
       "output_type": "stream",
       "stream": "stdout",
       "text": [
        "Fitting 5 folds for each of 8 candidates, totalling 40 fits\n",
        "[GridSearchCV] clf__max_features=0.5, clf__max_depth=5, imp__strategy=mean .....\n",
        "[GridSearchCV]  clf__max_features=0.5, clf__max_depth=5, imp__strategy=mean, score=0.821229 -   0.3s"
       ]
      },
      {
       "output_type": "stream",
       "stream": "stdout",
       "text": [
        "\n",
        "[GridSearchCV] clf__max_features=0.5, clf__max_depth=5, imp__strategy=mean .....\n",
        "[GridSearchCV]  clf__max_features=0.5, clf__max_depth=5, imp__strategy=mean, score=0.803371 -   0.3s"
       ]
      },
      {
       "output_type": "stream",
       "stream": "stdout",
       "text": [
        "\n",
        "[GridSearchCV] clf__max_features=0.5, clf__max_depth=5, imp__strategy=mean .....\n",
        "[GridSearchCV]  clf__max_features=0.5, clf__max_depth=5, imp__strategy=mean, score=0.797753 -   0.3s"
       ]
      },
      {
       "output_type": "stream",
       "stream": "stdout",
       "text": [
        "\n",
        "[GridSearchCV] clf__max_features=0.5, clf__max_depth=5, imp__strategy=mean .....\n",
        "[GridSearchCV]  clf__max_features=0.5, clf__max_depth=5, imp__strategy=mean, score=0.876404 -   0.2s"
       ]
      },
      {
       "output_type": "stream",
       "stream": "stdout",
       "text": [
        "\n",
        "[GridSearchCV] clf__max_features=0.5, clf__max_depth=5, imp__strategy=mean .....\n",
        "[GridSearchCV]  clf__max_features=0.5, clf__max_depth=5, imp__strategy=mean, score=0.837079 -   0.3s"
       ]
      },
      {
       "output_type": "stream",
       "stream": "stderr",
       "text": [
        "[Parallel(n_jobs=1)]: Done   1 jobs       | elapsed:    0.3s\n",
        "/Users/savarin/anaconda/envs/py27/lib/python2.7/site-packages/sklearn/preprocessing/imputation.py:307: DeprecationWarning: using a boolean instead of an integer will result in an error in the future\n",
        "  median[np.ma.getmask(median_masked)] = np.nan\n"
       ]
      },
      {
       "output_type": "stream",
       "stream": "stdout",
       "text": [
        "\n",
        "[GridSearchCV] clf__max_features=0.5, clf__max_depth=5, imp__strategy=median ...\n",
        "[GridSearchCV]  clf__max_features=0.5, clf__max_depth=5, imp__strategy=median, score=0.821229 -   0.3s"
       ]
      },
      {
       "output_type": "stream",
       "stream": "stdout",
       "text": [
        "\n",
        "[GridSearchCV] clf__max_features=0.5, clf__max_depth=5, imp__strategy=median ...\n",
        "[GridSearchCV]  clf__max_features=0.5, clf__max_depth=5, imp__strategy=median, score=0.792135 -   0.3s"
       ]
      },
      {
       "output_type": "stream",
       "stream": "stderr",
       "text": [
        "/Users/savarin/anaconda/envs/py27/lib/python2.7/site-packages/sklearn/preprocessing/imputation.py:307: DeprecationWarning: using a boolean instead of an integer will result in an error in the future\n",
        "  median[np.ma.getmask(median_masked)] = np.nan\n",
        "/Users/savarin/anaconda/envs/py27/lib/python2.7/site-packages/sklearn/preprocessing/imputation.py:307: DeprecationWarning: using a boolean instead of an integer will result in an error in the future\n",
        "  median[np.ma.getmask(median_masked)] = np.nan\n"
       ]
      },
      {
       "output_type": "stream",
       "stream": "stdout",
       "text": [
        "\n",
        "[GridSearchCV] clf__max_features=0.5, clf__max_depth=5, imp__strategy=median ...\n",
        "[GridSearchCV]  clf__max_features=0.5, clf__max_depth=5, imp__strategy=median, score=0.814607 -   0.3s"
       ]
      },
      {
       "output_type": "stream",
       "stream": "stdout",
       "text": [
        "\n",
        "[GridSearchCV] clf__max_features=0.5, clf__max_depth=5, imp__strategy=median ...\n",
        "[GridSearchCV]  clf__max_features=0.5, clf__max_depth=5, imp__strategy=median, score=0.848315 -   0.3s"
       ]
      },
      {
       "output_type": "stream",
       "stream": "stderr",
       "text": [
        "/Users/savarin/anaconda/envs/py27/lib/python2.7/site-packages/sklearn/preprocessing/imputation.py:307: DeprecationWarning: using a boolean instead of an integer will result in an error in the future\n",
        "  median[np.ma.getmask(median_masked)] = np.nan\n",
        "/Users/savarin/anaconda/envs/py27/lib/python2.7/site-packages/sklearn/preprocessing/imputation.py:307: DeprecationWarning: using a boolean instead of an integer will result in an error in the future\n",
        "  median[np.ma.getmask(median_masked)] = np.nan\n"
       ]
      },
      {
       "output_type": "stream",
       "stream": "stdout",
       "text": [
        "\n",
        "[GridSearchCV] clf__max_features=0.5, clf__max_depth=5, imp__strategy=median ...\n",
        "[GridSearchCV]  clf__max_features=0.5, clf__max_depth=5, imp__strategy=median, score=0.825843 -   0.3s"
       ]
      },
      {
       "output_type": "stream",
       "stream": "stdout",
       "text": [
        "\n",
        "[GridSearchCV] clf__max_features=1, clf__max_depth=5, imp__strategy=mean .......\n",
        "[GridSearchCV]  clf__max_features=1, clf__max_depth=5, imp__strategy=mean, score=0.843575 -   0.2s"
       ]
      },
      {
       "output_type": "stream",
       "stream": "stdout",
       "text": [
        "\n",
        "[GridSearchCV] clf__max_features=1, clf__max_depth=5, imp__strategy=mean .......\n",
        "[GridSearchCV]  clf__max_features=1, clf__max_depth=5, imp__strategy=mean, score=0.775281 -   0.2s"
       ]
      },
      {
       "output_type": "stream",
       "stream": "stdout",
       "text": [
        "\n",
        "[GridSearchCV] clf__max_features=1, clf__max_depth=5, imp__strategy=mean .......\n",
        "[GridSearchCV]  clf__max_features=1, clf__max_depth=5, imp__strategy=mean, score=0.747191 -   0.2s"
       ]
      },
      {
       "output_type": "stream",
       "stream": "stdout",
       "text": [
        "\n",
        "[GridSearchCV] clf__max_features=1, clf__max_depth=5, imp__strategy=mean .......\n",
        "[GridSearchCV]  clf__max_features=1, clf__max_depth=5, imp__strategy=mean, score=0.842697 -   0.2s"
       ]
      },
      {
       "output_type": "stream",
       "stream": "stdout",
       "text": [
        "\n",
        "[GridSearchCV] clf__max_features=1, clf__max_depth=5, imp__strategy=mean .......\n",
        "[GridSearchCV]  clf__max_features=1, clf__max_depth=5, imp__strategy=mean, score=0.820225 -   0.2s"
       ]
      },
      {
       "output_type": "stream",
       "stream": "stdout",
       "text": [
        "\n",
        "[GridSearchCV] clf__max_features=1, clf__max_depth=5, imp__strategy=median .....\n",
        "[GridSearchCV]  clf__max_features=1, clf__max_depth=5, imp__strategy=median, score=0.849162 -   0.2s"
       ]
      },
      {
       "output_type": "stream",
       "stream": "stderr",
       "text": [
        "/Users/savarin/anaconda/envs/py27/lib/python2.7/site-packages/sklearn/preprocessing/imputation.py:307: DeprecationWarning: using a boolean instead of an integer will result in an error in the future\n",
        "  median[np.ma.getmask(median_masked)] = np.nan\n",
        "/Users/savarin/anaconda/envs/py27/lib/python2.7/site-packages/sklearn/preprocessing/imputation.py:307: DeprecationWarning: using a boolean instead of an integer will result in an error in the future\n",
        "  median[np.ma.getmask(median_masked)] = np.nan\n"
       ]
      },
      {
       "output_type": "stream",
       "stream": "stdout",
       "text": [
        "\n",
        "[GridSearchCV] clf__max_features=1, clf__max_depth=5, imp__strategy=median .....\n",
        "[GridSearchCV]  clf__max_features=1, clf__max_depth=5, imp__strategy=median, score=0.769663 -   0.2s"
       ]
      },
      {
       "output_type": "stream",
       "stream": "stdout",
       "text": [
        "\n",
        "[GridSearchCV] clf__max_features=1, clf__max_depth=5, imp__strategy=median .....\n",
        "[GridSearchCV]  clf__max_features=1, clf__max_depth=5, imp__strategy=median, score=0.752809 -   0.2s"
       ]
      },
      {
       "output_type": "stream",
       "stream": "stderr",
       "text": [
        "/Users/savarin/anaconda/envs/py27/lib/python2.7/site-packages/sklearn/preprocessing/imputation.py:307: DeprecationWarning: using a boolean instead of an integer will result in an error in the future\n",
        "  median[np.ma.getmask(median_masked)] = np.nan\n",
        "/Users/savarin/anaconda/envs/py27/lib/python2.7/site-packages/sklearn/preprocessing/imputation.py:307: DeprecationWarning: using a boolean instead of an integer will result in an error in the future\n",
        "  median[np.ma.getmask(median_masked)] = np.nan\n"
       ]
      },
      {
       "output_type": "stream",
       "stream": "stdout",
       "text": [
        "\n",
        "[GridSearchCV] clf__max_features=1, clf__max_depth=5, imp__strategy=median .....\n",
        "[GridSearchCV]  clf__max_features=1, clf__max_depth=5, imp__strategy=median, score=0.837079 -   0.2s"
       ]
      },
      {
       "output_type": "stream",
       "stream": "stdout",
       "text": [
        "\n",
        "[GridSearchCV] clf__max_features=1, clf__max_depth=5, imp__strategy=median .....\n",
        "[GridSearchCV]  clf__max_features=1, clf__max_depth=5, imp__strategy=median, score=0.820225 -   0.3s"
       ]
      },
      {
       "output_type": "stream",
       "stream": "stdout",
       "text": [
        "\n",
        "[GridSearchCV] clf__max_features=0.5, clf__max_depth=None, imp__strategy=mean ..\n",
        "[GridSearchCV]  clf__max_features=0.5, clf__max_depth=None, imp__strategy=mean, score=0.837989 -   0.5s"
       ]
      },
      {
       "output_type": "stream",
       "stream": "stdout",
       "text": [
        "\n",
        "[GridSearchCV] clf__max_features=0.5, clf__max_depth=None, imp__strategy=mean ..\n",
        "[GridSearchCV]  clf__max_features=0.5, clf__max_depth=None, imp__strategy=mean, score=0.808989 -   0.4s"
       ]
      },
      {
       "output_type": "stream",
       "stream": "stdout",
       "text": [
        "\n",
        "[GridSearchCV] clf__max_features=0.5, clf__max_depth=None, imp__strategy=mean ..\n",
        "[GridSearchCV]  clf__max_features=0.5, clf__max_depth=None, imp__strategy=mean, score=0.797753 -   0.3s"
       ]
      },
      {
       "output_type": "stream",
       "stream": "stdout",
       "text": [
        "\n",
        "[GridSearchCV] clf__max_features=0.5, clf__max_depth=None, imp__strategy=mean ..\n",
        "[GridSearchCV]  clf__max_features=0.5, clf__max_depth=None, imp__strategy=mean, score=0.825843 -   0.3s"
       ]
      },
      {
       "output_type": "stream",
       "stream": "stdout",
       "text": [
        "\n",
        "[GridSearchCV] clf__max_features=0.5, clf__max_depth=None, imp__strategy=mean ..\n",
        "[GridSearchCV]  clf__max_features=0.5, clf__max_depth=None, imp__strategy=mean, score=0.842697 -   0.4s"
       ]
      },
      {
       "output_type": "stream",
       "stream": "stderr",
       "text": [
        "/Users/savarin/anaconda/envs/py27/lib/python2.7/site-packages/sklearn/preprocessing/imputation.py:307: DeprecationWarning: using a boolean instead of an integer will result in an error in the future\n",
        "  median[np.ma.getmask(median_masked)] = np.nan\n",
        "/Users/savarin/anaconda/envs/py27/lib/python2.7/site-packages/sklearn/preprocessing/imputation.py:307: DeprecationWarning: using a boolean instead of an integer will result in an error in the future\n",
        "  median[np.ma.getmask(median_masked)] = np.nan\n"
       ]
      },
      {
       "output_type": "stream",
       "stream": "stdout",
       "text": [
        "\n",
        "[GridSearchCV] clf__max_features=0.5, clf__max_depth=None, imp__strategy=median \n",
        "[GridSearchCV]  clf__max_features=0.5, clf__max_depth=None, imp__strategy=median, score=0.832402 -   0.5s"
       ]
      },
      {
       "output_type": "stream",
       "stream": "stdout",
       "text": [
        "\n",
        "[GridSearchCV] clf__max_features=0.5, clf__max_depth=None, imp__strategy=median \n",
        "[GridSearchCV]  clf__max_features=0.5, clf__max_depth=None, imp__strategy=median, score=0.797753 -   0.5s"
       ]
      },
      {
       "output_type": "stream",
       "stream": "stderr",
       "text": [
        "/Users/savarin/anaconda/envs/py27/lib/python2.7/site-packages/sklearn/preprocessing/imputation.py:307: DeprecationWarning: using a boolean instead of an integer will result in an error in the future\n",
        "  median[np.ma.getmask(median_masked)] = np.nan\n",
        "/Users/savarin/anaconda/envs/py27/lib/python2.7/site-packages/sklearn/preprocessing/imputation.py:307: DeprecationWarning: using a boolean instead of an integer will result in an error in the future\n",
        "  median[np.ma.getmask(median_masked)] = np.nan\n"
       ]
      },
      {
       "output_type": "stream",
       "stream": "stdout",
       "text": [
        "\n",
        "[GridSearchCV] clf__max_features=0.5, clf__max_depth=None, imp__strategy=median \n",
        "[GridSearchCV]  clf__max_features=0.5, clf__max_depth=None, imp__strategy=median, score=0.786517 -   0.4s"
       ]
      },
      {
       "output_type": "stream",
       "stream": "stdout",
       "text": [
        "\n",
        "[GridSearchCV] clf__max_features=0.5, clf__max_depth=None, imp__strategy=median \n",
        "[GridSearchCV]  clf__max_features=0.5, clf__max_depth=None, imp__strategy=median, score=0.792135 -   0.4s"
       ]
      },
      {
       "output_type": "stream",
       "stream": "stderr",
       "text": [
        "/Users/savarin/anaconda/envs/py27/lib/python2.7/site-packages/sklearn/preprocessing/imputation.py:307: DeprecationWarning: using a boolean instead of an integer will result in an error in the future\n",
        "  median[np.ma.getmask(median_masked)] = np.nan\n",
        "/Users/savarin/anaconda/envs/py27/lib/python2.7/site-packages/sklearn/preprocessing/imputation.py:307: DeprecationWarning: using a boolean instead of an integer will result in an error in the future\n",
        "  median[np.ma.getmask(median_masked)] = np.nan\n"
       ]
      },
      {
       "output_type": "stream",
       "stream": "stdout",
       "text": [
        "\n",
        "[GridSearchCV] clf__max_features=0.5, clf__max_depth=None, imp__strategy=median \n",
        "[GridSearchCV]  clf__max_features=0.5, clf__max_depth=None, imp__strategy=median, score=0.859551 -   0.4s"
       ]
      },
      {
       "output_type": "stream",
       "stream": "stdout",
       "text": [
        "\n",
        "[GridSearchCV] clf__max_features=1, clf__max_depth=None, imp__strategy=mean ....\n",
        "[GridSearchCV]  clf__max_features=1, clf__max_depth=None, imp__strategy=mean, score=0.810056 -   0.3s"
       ]
      },
      {
       "output_type": "stream",
       "stream": "stdout",
       "text": [
        "\n",
        "[GridSearchCV] clf__max_features=1, clf__max_depth=None, imp__strategy=mean ....\n",
        "[GridSearchCV]  clf__max_features=1, clf__max_depth=None, imp__strategy=mean, score=0.797753 -   0.4s"
       ]
      },
      {
       "output_type": "stream",
       "stream": "stdout",
       "text": [
        "\n",
        "[GridSearchCV] clf__max_features=1, clf__max_depth=None, imp__strategy=mean ....\n",
        "[GridSearchCV]  clf__max_features=1, clf__max_depth=None, imp__strategy=mean, score=0.758427 -   0.3s"
       ]
      },
      {
       "output_type": "stream",
       "stream": "stdout",
       "text": [
        "\n",
        "[GridSearchCV] clf__max_features=1, clf__max_depth=None, imp__strategy=mean ....\n",
        "[GridSearchCV]  clf__max_features=1, clf__max_depth=None, imp__strategy=mean, score=0.814607 -   0.3s"
       ]
      },
      {
       "output_type": "stream",
       "stream": "stdout",
       "text": [
        "\n",
        "[GridSearchCV] clf__max_features=1, clf__max_depth=None, imp__strategy=mean ....\n",
        "[GridSearchCV]  clf__max_features=1, clf__max_depth=None, imp__strategy=mean, score=0.831461 -   0.3s"
       ]
      },
      {
       "output_type": "stream",
       "stream": "stderr",
       "text": [
        "[Parallel(n_jobs=1)]: Done  32 jobs       | elapsed:    9.7s\n",
        "/Users/savarin/anaconda/envs/py27/lib/python2.7/site-packages/sklearn/preprocessing/imputation.py:307: DeprecationWarning: using a boolean instead of an integer will result in an error in the future\n",
        "  median[np.ma.getmask(median_masked)] = np.nan\n"
       ]
      },
      {
       "output_type": "stream",
       "stream": "stdout",
       "text": [
        "\n",
        "[GridSearchCV] clf__max_features=1, clf__max_depth=None, imp__strategy=median ..\n",
        "[GridSearchCV]  clf__max_features=1, clf__max_depth=None, imp__strategy=median, score=0.821229 -   0.3s"
       ]
      },
      {
       "output_type": "stream",
       "stream": "stdout",
       "text": [
        "\n",
        "[GridSearchCV] clf__max_features=1, clf__max_depth=None, imp__strategy=median ..\n",
        "[GridSearchCV]  clf__max_features=1, clf__max_depth=None, imp__strategy=median, score=0.786517 -   0.3s"
       ]
      },
      {
       "output_type": "stream",
       "stream": "stderr",
       "text": [
        "/Users/savarin/anaconda/envs/py27/lib/python2.7/site-packages/sklearn/preprocessing/imputation.py:307: DeprecationWarning: using a boolean instead of an integer will result in an error in the future\n",
        "  median[np.ma.getmask(median_masked)] = np.nan\n",
        "/Users/savarin/anaconda/envs/py27/lib/python2.7/site-packages/sklearn/preprocessing/imputation.py:307: DeprecationWarning: using a boolean instead of an integer will result in an error in the future\n",
        "  median[np.ma.getmask(median_masked)] = np.nan\n"
       ]
      },
      {
       "output_type": "stream",
       "stream": "stdout",
       "text": [
        "\n",
        "[GridSearchCV] clf__max_features=1, clf__max_depth=None, imp__strategy=median ..\n",
        "[GridSearchCV]  clf__max_features=1, clf__max_depth=None, imp__strategy=median, score=0.758427 -   0.3s"
       ]
      },
      {
       "output_type": "stream",
       "stream": "stdout",
       "text": [
        "\n",
        "[GridSearchCV] clf__max_features=1, clf__max_depth=None, imp__strategy=median ..\n",
        "[GridSearchCV]  clf__max_features=1, clf__max_depth=None, imp__strategy=median, score=0.803371 -   0.3s"
       ]
      },
      {
       "output_type": "stream",
       "stream": "stderr",
       "text": [
        "/Users/savarin/anaconda/envs/py27/lib/python2.7/site-packages/sklearn/preprocessing/imputation.py:307: DeprecationWarning: using a boolean instead of an integer will result in an error in the future\n",
        "  median[np.ma.getmask(median_masked)] = np.nan\n",
        "/Users/savarin/anaconda/envs/py27/lib/python2.7/site-packages/sklearn/preprocessing/imputation.py:307: DeprecationWarning: using a boolean instead of an integer will result in an error in the future\n",
        "  median[np.ma.getmask(median_masked)] = np.nan\n"
       ]
      },
      {
       "output_type": "stream",
       "stream": "stdout",
       "text": [
        "\n",
        "[GridSearchCV] clf__max_features=1, clf__max_depth=None, imp__strategy=median ..\n",
        "[GridSearchCV]  clf__max_features=1, clf__max_depth=None, imp__strategy=median, score=0.859551 -   0.3s"
       ]
      },
      {
       "output_type": "stream",
       "stream": "stdout",
       "text": [
        "\n"
       ]
      },
      {
       "output_type": "stream",
       "stream": "stderr",
       "text": [
        "[Parallel(n_jobs=1)]: Done  40 out of  40 | elapsed:   12.0s finished\n"
       ]
      },
      {
       "metadata": {},
       "output_type": "pyout",
       "prompt_number": 15,
       "text": [
        "GridSearchCV(cv=5,\n",
        "       estimator=Pipeline(steps=[('imp', Imputer(axis=0, copy=True, missing_values=-1, strategy='mean', verbose=0)), ('clf', RandomForestClassifier(bootstrap=True, compute_importances=None,\n",
        "            criterion='gini', max_depth=None, max_features='auto',\n",
        "            min_density=None, min_samples_leaf=1, min_samples_split=2,\n",
        "            n_estimators=100, n_jobs=1, oob_score=False, random_state=None,\n",
        "            verbose=0))]),\n",
        "       fit_params={}, iid=True, loss_func=None, n_jobs=1,\n",
        "       param_grid={'clf__max_features': [0.5, 1], 'clf__max_depth': [5, None], 'imp__strategy': ['mean', 'median']},\n",
        "       pre_dispatch='2*n_jobs', refit=True, score_func=None, scoring=None,\n",
        "       verbose=3)"
       ]
      }
     ],
     "prompt_number": 15
    },
    {
     "cell_type": "code",
     "collapsed": false,
     "input": [
      "sorted(grid_search.grid_scores_, key=lambda x: x.mean_validation_score)\n",
      "grid_search.best_score_\n",
      "grid_search.best_params_"
     ],
     "language": "python",
     "metadata": {},
     "outputs": [
      {
       "metadata": {},
       "output_type": "pyout",
       "prompt_number": 16,
       "text": [
        "{'clf__max_depth': 5, 'clf__max_features': 0.5, 'imp__strategy': 'mean'}"
       ]
      }
     ],
     "prompt_number": 16
    },
    {
     "cell_type": "markdown",
     "metadata": {},
     "source": [
      "As before, we replace the -1 values in the column Age by the better performer."
     ]
    },
    {
     "cell_type": "code",
     "collapsed": false,
     "input": [
      "df['Age'] = df['Age'].map(lambda x: age_mean if x == -1 else x)"
     ],
     "language": "python",
     "metadata": {},
     "outputs": [],
     "prompt_number": 17
    },
    {
     "cell_type": "code",
     "collapsed": false,
     "input": [
      "train_data = df.values"
     ],
     "language": "python",
     "metadata": {},
     "outputs": [],
     "prompt_number": 18
    },
    {
     "cell_type": "code",
     "collapsed": false,
     "input": [
      "model = RandomForestClassifier(n_estimators = 100, max_features=0.5, max_depth=5)\n",
      "model = model.fit(train_data[0:,2:],train_data[0:,0])"
     ],
     "language": "python",
     "metadata": {},
     "outputs": [],
     "prompt_number": 19
    },
    {
     "cell_type": "heading",
     "level": 2,
     "metadata": {},
     "source": [
      "Scikit-learn - Making predictions"
     ]
    },
    {
     "cell_type": "code",
     "collapsed": false,
     "input": [
      "df_test = pd.read_csv('../data/test.csv')\n",
      "\n",
      "df_test = df_test.drop(['Name', 'Ticket', 'Cabin'], axis=1)"
     ],
     "language": "python",
     "metadata": {},
     "outputs": [],
     "prompt_number": 20
    },
    {
     "cell_type": "markdown",
     "metadata": {},
     "source": [
      "Similarly we fill in the NAs in the test data with the better performer."
     ]
    },
    {
     "cell_type": "code",
     "collapsed": false,
     "input": [
      "df_test['Age'] = df_test['Age'].fillna(age_mean)"
     ],
     "language": "python",
     "metadata": {},
     "outputs": [],
     "prompt_number": 21
    },
    {
     "cell_type": "code",
     "collapsed": false,
     "input": [
      "fare_means = df.pivot_table('Fare', index='Pclass', aggfunc='mean')\n",
      "df_test['Fare'] = df_test[['Fare', 'Pclass']].apply(lambda x:\n",
      "                            fare_means[x['Pclass']] if pd.isnull(x['Fare'])\n",
      "                            else x['Fare'], axis=1)\n",
      "\n",
      "df_test['Gender'] = df_test['Sex'].map({'female': 0, 'male': 1}).astype(int)\n",
      "df_test = pd.concat([df_test, pd.get_dummies(df_test['Embarked'], prefix='Embarked')],\n",
      "                axis=1)\n",
      "\n",
      "df_test = df_test.drop(['Sex', 'Embarked'], axis=1)\n",
      "\n",
      "test_data = df_test.values\n",
      "\n",
      "output = model.predict(test_data[:,1:])"
     ],
     "language": "python",
     "metadata": {},
     "outputs": [
      {
       "output_type": "stream",
       "stream": "stderr",
       "text": [
        "/Users/savarin/anaconda/envs/py27/lib/python2.7/site-packages/pandas/core/index.py:503: FutureWarning: scalar indexers for index type Int64Index should be integers and not floating point\n",
        "  type(self).__name__),FutureWarning)\n"
       ]
      }
     ],
     "prompt_number": 22
    },
    {
     "cell_type": "heading",
     "level": 2,
     "metadata": {},
     "source": [
      "Pandas - Preparing for submission"
     ]
    },
    {
     "cell_type": "code",
     "collapsed": false,
     "input": [
      "result = np.c_[test_data[:,0].astype(int), output.astype(int)]\n",
      "\n",
      "\n",
      "df_result = pd.DataFrame(result[:,0:2], columns=['PassengerId', 'Survived'])\n",
      "df_result.to_csv('../results/titanic_1-5.csv', index=False)"
     ],
     "language": "python",
     "metadata": {},
     "outputs": [],
     "prompt_number": 23
    }
   ],
   "metadata": {}
  }
 ]
}