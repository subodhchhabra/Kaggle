{
 "metadata": {
  "name": "",
  "signature": "sha256:97cf3b8f8bdd8bd6614708d69d91224fa13a903567258328444e2a64eff21cdb"
 },
 "nbformat": 3,
 "nbformat_minor": 0,
 "worksheets": [
  {
   "cells": [
    {
     "cell_type": "heading",
     "level": 1,
     "metadata": {},
     "source": [
      "Section 1-3 - Parameter Tuning"
     ]
    },
    {
     "cell_type": "markdown",
     "metadata": {},
     "source": [
      "In previous sections, we took the approach of using Scikit-learn as a black box. We now review how to tune the parameters of the model to make more accurate predictions."
     ]
    },
    {
     "cell_type": "heading",
     "level": 2,
     "metadata": {},
     "source": [
      "Pandas - Extracting data"
     ]
    },
    {
     "cell_type": "code",
     "collapsed": false,
     "input": [
      "import pandas as pd\n",
      "import numpy as np\n",
      "\n",
      "df = pd.read_csv('../data/train.csv')"
     ],
     "language": "python",
     "metadata": {},
     "outputs": [],
     "prompt_number": 1
    },
    {
     "cell_type": "heading",
     "level": 2,
     "metadata": {},
     "source": [
      "Pandas - Cleaning data"
     ]
    },
    {
     "cell_type": "code",
     "collapsed": false,
     "input": [
      "df = df.drop(['Name', 'Ticket', 'Cabin'], axis=1)\n",
      "\n",
      "age_mean = df['Age'].mean()\n",
      "df['Age'] = df['Age'].fillna(age_mean)\n",
      "\n",
      "from scipy.stats import mode\n",
      "\n",
      "mode_embarked = mode(df['Embarked'])[0][0]\n",
      "df['Embarked'] = df['Embarked'].fillna(mode_embarked)\n",
      "\n",
      "df['Gender'] = df['Sex'].map({'female': 0, 'male': 1}).astype(int)\n",
      "\n",
      "pd.get_dummies(df['Embarked'], prefix='Embarked').head(10)\n",
      "df = pd.concat([df, pd.get_dummies(df['Embarked'], prefix='Embarked')], axis=1)\n",
      "\n",
      "df = df.drop(['Sex', 'Embarked'], axis=1)\n",
      "\n",
      "cols = df.columns.tolist()\n",
      "cols = [cols[1]] + cols[0:1] + cols[2:]\n",
      "\n",
      "df = df[cols]\n",
      "\n",
      "train_data = df.values"
     ],
     "language": "python",
     "metadata": {},
     "outputs": [],
     "prompt_number": 2
    },
    {
     "cell_type": "heading",
     "level": 2,
     "metadata": {},
     "source": [
      "Scikit-learn - Training the model"
     ]
    },
    {
     "cell_type": "markdown",
     "metadata": {},
     "source": [
      "The documentation for the Random Forest Classifier details the different input parameters of the model. These input parameters include the number of trees, and the number of branches each tree has. It is unclear, off-the-bat, which values would be optimal. \n",
      "\n",
      "http://scikit-learn.org/stable/modules/generated/sklearn.ensemble.RandomForestClassifier.html"
     ]
    },
    {
     "cell_type": "markdown",
     "metadata": {},
     "source": [
      "GridSearchCV allows us to test the desired range of input parameters, and review the performance of each set of values on a cross-validation basis. Here we review the number of features considered at each step a branch is made (max_features: 50% or 100% of features) and the maximum number of branches (max_depth: 5 levels or no limitations). "
     ]
    },
    {
     "cell_type": "code",
     "collapsed": false,
     "input": [
      "from sklearn.ensemble import RandomForestClassifier\n",
      "from sklearn.grid_search import GridSearchCV\n",
      "\n",
      "parameter_grid = {\n",
      "    'max_features': [0.5, 1.],\n",
      "    'max_depth': [5., None]\n",
      "}\n",
      "\n",
      "grid_search = GridSearchCV(RandomForestClassifier(n_estimators = 100), parameter_grid,\n",
      "                            cv=5, verbose=3)"
     ],
     "language": "python",
     "metadata": {},
     "outputs": [],
     "prompt_number": 3
    },
    {
     "cell_type": "code",
     "collapsed": false,
     "input": [
      "grid_search.fit(train_data[0:,2:], train_data[0:,0])"
     ],
     "language": "python",
     "metadata": {},
     "outputs": [
      {
       "output_type": "stream",
       "stream": "stdout",
       "text": [
        "Fitting 5 folds for each of 4 candidates, totalling 20 fits\n",
        "[GridSearchCV] max_features=0.5, max_depth=5.0 .................................\n",
        "[GridSearchCV] ........ max_features=0.5, max_depth=5.0, score=0.843575 -   0.2s"
       ]
      },
      {
       "output_type": "stream",
       "stream": "stdout",
       "text": [
        "\n",
        "[GridSearchCV] max_features=0.5, max_depth=5.0 .................................\n",
        "[GridSearchCV] ........ max_features=0.5, max_depth=5.0, score=0.797753 -   0.2s"
       ]
      },
      {
       "output_type": "stream",
       "stream": "stdout",
       "text": [
        "\n",
        "[GridSearchCV] max_features=0.5, max_depth=5.0 .................................\n",
        "[GridSearchCV] ........ max_features=0.5, max_depth=5.0, score=0.797753 -   0.1s"
       ]
      },
      {
       "output_type": "stream",
       "stream": "stdout",
       "text": [
        "\n",
        "[GridSearchCV] max_features=0.5, max_depth=5.0 .................................\n",
        "[GridSearchCV] ........ max_features=0.5, max_depth=5.0, score=0.870787 -   0.1s"
       ]
      },
      {
       "output_type": "stream",
       "stream": "stdout",
       "text": [
        "\n",
        "[GridSearchCV] max_features=0.5, max_depth=5.0 .................................\n",
        "[GridSearchCV] ........ max_features=0.5, max_depth=5.0, score=0.831461 -   0.1s"
       ]
      },
      {
       "output_type": "stream",
       "stream": "stdout",
       "text": [
        "\n",
        "[GridSearchCV] max_features=1.0, max_depth=5.0 .................................\n",
        "[GridSearchCV] ........ max_features=1.0, max_depth=5.0, score=0.854749 -   0.2s"
       ]
      },
      {
       "output_type": "stream",
       "stream": "stdout",
       "text": [
        "\n",
        "[GridSearchCV] max_features=1.0, max_depth=5.0 .................................\n",
        "[GridSearchCV] ........ max_features=1.0, max_depth=5.0, score=0.797753 -   0.2s"
       ]
      },
      {
       "output_type": "stream",
       "stream": "stdout",
       "text": [
        "\n",
        "[GridSearchCV] max_features=1.0, max_depth=5.0 .................................\n",
        "[GridSearchCV] ........ max_features=1.0, max_depth=5.0, score=0.786517 -   0.2s"
       ]
      },
      {
       "output_type": "stream",
       "stream": "stdout",
       "text": [
        "\n",
        "[GridSearchCV] max_features=1.0, max_depth=5.0 .................................\n",
        "[GridSearchCV] ........ max_features=1.0, max_depth=5.0, score=0.842697 -   0.2s"
       ]
      },
      {
       "output_type": "stream",
       "stream": "stdout",
       "text": [
        "\n",
        "[GridSearchCV] max_features=1.0, max_depth=5.0 .................................\n",
        "[GridSearchCV] ........ max_features=1.0, max_depth=5.0, score=0.831461 -   0.2s"
       ]
      },
      {
       "output_type": "stream",
       "stream": "stdout",
       "text": [
        "\n",
        "[GridSearchCV] max_features=0.5, max_depth=None ................................\n",
        "[GridSearchCV] ....... max_features=0.5, max_depth=None, score=0.832402 -   0.2s"
       ]
      },
      {
       "output_type": "stream",
       "stream": "stdout",
       "text": [
        "\n",
        "[GridSearchCV] max_features=0.5, max_depth=None ................................\n",
        "[GridSearchCV] ....... max_features=0.5, max_depth=None, score=0.803371 -   0.2s"
       ]
      },
      {
       "output_type": "stream",
       "stream": "stdout",
       "text": [
        "\n",
        "[GridSearchCV] max_features=0.5, max_depth=None ................................\n",
        "[GridSearchCV] ....... max_features=0.5, max_depth=None, score=0.786517 -   0.2s"
       ]
      },
      {
       "output_type": "stream",
       "stream": "stdout",
       "text": [
        "\n",
        "[GridSearchCV] max_features=0.5, max_depth=None ................................\n",
        "[GridSearchCV] ....... max_features=0.5, max_depth=None, score=0.808989 -   0.2s"
       ]
      },
      {
       "output_type": "stream",
       "stream": "stdout",
       "text": [
        "\n",
        "[GridSearchCV] max_features=0.5, max_depth=None ................................\n",
        "[GridSearchCV] ....... max_features=0.5, max_depth=None, score=0.831461 -   0.2s"
       ]
      },
      {
       "output_type": "stream",
       "stream": "stdout",
       "text": [
        "\n",
        "[GridSearchCV] max_features=1.0, max_depth=None ................................\n",
        "[GridSearchCV] ....... max_features=1.0, max_depth=None, score=0.837989 -   0.3s"
       ]
      },
      {
       "output_type": "stream",
       "stream": "stdout",
       "text": [
        "\n",
        "[GridSearchCV] max_features=1.0, max_depth=None ................................\n",
        "[GridSearchCV] ....... max_features=1.0, max_depth=None, score=0.803371 -   0.3s"
       ]
      },
      {
       "output_type": "stream",
       "stream": "stdout",
       "text": [
        "\n",
        "[GridSearchCV] max_features=1.0, max_depth=None ................................\n",
        "[GridSearchCV] ....... max_features=1.0, max_depth=None, score=0.780899 -   0.4s"
       ]
      },
      {
       "output_type": "stream",
       "stream": "stdout",
       "text": [
        "\n",
        "[GridSearchCV] max_features=1.0, max_depth=None ................................\n",
        "[GridSearchCV] ....... max_features=1.0, max_depth=None, score=0.808989 -   0.3s"
       ]
      },
      {
       "output_type": "stream",
       "stream": "stdout",
       "text": [
        "\n",
        "[GridSearchCV] max_features=1.0, max_depth=None ................................\n",
        "[GridSearchCV] ....... max_features=1.0, max_depth=None, score=0.848315 -   0.3s"
       ]
      },
      {
       "output_type": "stream",
       "stream": "stderr",
       "text": [
        "[Parallel(n_jobs=1)]: Done   1 jobs       | elapsed:    0.2s\n",
        "[Parallel(n_jobs=1)]: Done  20 out of  20 | elapsed:    4.3s finished\n"
       ]
      },
      {
       "output_type": "stream",
       "stream": "stdout",
       "text": [
        "\n"
       ]
      },
      {
       "metadata": {},
       "output_type": "pyout",
       "prompt_number": 4,
       "text": [
        "GridSearchCV(cv=5,\n",
        "       estimator=RandomForestClassifier(bootstrap=True, compute_importances=None,\n",
        "            criterion='gini', max_depth=None, max_features='auto',\n",
        "            min_density=None, min_samples_leaf=1, min_samples_split=2,\n",
        "            n_estimators=100, n_jobs=1, oob_score=False, random_state=None,\n",
        "            verbose=0),\n",
        "       fit_params={}, iid=True, loss_func=None, n_jobs=1,\n",
        "       param_grid={'max_features': [0.5, 1.0], 'max_depth': [5.0, None]},\n",
        "       pre_dispatch='2*n_jobs', refit=True, score_func=None, scoring=None,\n",
        "       verbose=3)"
       ]
      }
     ],
     "prompt_number": 4
    },
    {
     "cell_type": "markdown",
     "metadata": {},
     "source": [
      "We now review the results."
     ]
    },
    {
     "cell_type": "code",
     "collapsed": false,
     "input": [
      "grid_search.grid_scores_"
     ],
     "language": "python",
     "metadata": {},
     "outputs": [
      {
       "metadata": {},
       "output_type": "pyout",
       "prompt_number": 5,
       "text": [
        "[mean: 0.82828, std: 0.02798, params: {'max_features': 0.5, 'max_depth': 5.0},\n",
        " mean: 0.82267, std: 0.02621, params: {'max_features': 1.0, 'max_depth': 5.0},\n",
        " mean: 0.81257, std: 0.01747, params: {'max_features': 0.5, 'max_depth': None},\n",
        " mean: 0.81594, std: 0.02437, params: {'max_features': 1.0, 'max_depth': None}]"
       ]
      }
     ],
     "prompt_number": 5
    },
    {
     "cell_type": "markdown",
     "metadata": {},
     "source": [
      "We sort the results, and determine the best-performing tuning parameters."
     ]
    },
    {
     "cell_type": "code",
     "collapsed": false,
     "input": [
      "sorted(grid_search.grid_scores_, key=lambda x: x.mean_validation_score)\n",
      "grid_search.best_score_\n",
      "grid_search.best_params_"
     ],
     "language": "python",
     "metadata": {},
     "outputs": [
      {
       "metadata": {},
       "output_type": "pyout",
       "prompt_number": 6,
       "text": [
        "{'max_depth': 5.0, 'max_features': 0.5}"
       ]
      }
     ],
     "prompt_number": 6
    },
    {
     "cell_type": "markdown",
     "metadata": {},
     "source": [
      "We then set these tuning parameters to our model."
     ]
    },
    {
     "cell_type": "code",
     "collapsed": false,
     "input": [
      "model = RandomForestClassifier(n_estimators = 100, max_features=0.5, max_depth=5.0)\n",
      "model = model.fit(train_data[0:,2:],train_data[0:,0])"
     ],
     "language": "python",
     "metadata": {},
     "outputs": [],
     "prompt_number": 7
    },
    {
     "cell_type": "markdown",
     "metadata": {},
     "source": [
      "**Exercise**\n",
      "\n",
      "- Write the code so that grid_search refits model with the best tuning parameters to the entire dataset after these parameters are found, and hence allow us to skip the two lines of code above."
     ]
    },
    {
     "cell_type": "heading",
     "level": 2,
     "metadata": {},
     "source": [
      "Scikit-learn - Making predictions"
     ]
    },
    {
     "cell_type": "code",
     "collapsed": false,
     "input": [
      "df_test = pd.read_csv('../data/test.csv')\n",
      "\n",
      "df_test = df_test.drop(['Name', 'Ticket', 'Cabin'], axis=1)\n",
      "\n",
      "df_test['Age'] = df_test['Age'].fillna(age_mean)\n",
      "\n",
      "fare_means = df.pivot_table('Fare', index='Pclass', aggfunc='mean')\n",
      "df_test['Fare'] = df_test[['Fare', 'Pclass']].apply(lambda x:\n",
      "                            fare_means[x['Pclass']] if pd.isnull(x['Fare'])\n",
      "                            else x['Fare'], axis=1)\n",
      "\n",
      "df_test['Gender'] = df_test['Sex'].map({'female': 0, 'male': 1}).astype(int)\n",
      "df_test = pd.concat([df_test, pd.get_dummies(df_test['Embarked'], prefix='Embarked')],\n",
      "                axis=1)\n",
      "\n",
      "df_test = df_test.drop(['Sex', 'Embarked'], axis=1)\n",
      "\n",
      "test_data = df_test.values\n",
      "\n",
      "output = model.predict(test_data[:,1:])"
     ],
     "language": "python",
     "metadata": {},
     "outputs": [
      {
       "output_type": "stream",
       "stream": "stderr",
       "text": [
        "/Users/savarin/anaconda/lib/python2.7/site-packages/pandas/core/index.py:496: FutureWarning: scalar indexers for index type Int64Index should be integers and not floating point\n",
        "  type(self).__name__),FutureWarning)\n"
       ]
      }
     ],
     "prompt_number": 8
    },
    {
     "cell_type": "heading",
     "level": 2,
     "metadata": {},
     "source": [
      "Pandas - Preparing for submission"
     ]
    },
    {
     "cell_type": "code",
     "collapsed": false,
     "input": [
      "result = np.c_[test_data[:,0].astype(int), output.astype(int)]\n",
      "\n",
      "\n",
      "df_result = pd.DataFrame(result[:,0:2], columns=['PassengerId', 'Survived'])\n",
      "df_result.to_csv('../results/titanic_1-3.csv', index=False)"
     ],
     "language": "python",
     "metadata": {},
     "outputs": [],
     "prompt_number": 9
    }
   ],
   "metadata": {}
  }
 ]
}