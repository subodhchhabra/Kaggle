{
 "metadata": {
  "name": "",
  "signature": "sha256:6057d298be667b4bb1eab7f85184c9f010f0d8b8ff39641a540d1a64877e8312"
 },
 "nbformat": 3,
 "nbformat_minor": 0,
 "worksheets": [
  {
   "cells": [
    {
     "cell_type": "heading",
     "level": 1,
     "metadata": {},
     "source": [
      "Pandas and Scikit-learn"
     ]
    },
    {
     "cell_type": "markdown",
     "metadata": {},
     "source": [
      "Pandas is a Python library that contains high-level data structures and manipulation tools designed for data analysis. Think of Pandas as a Python version of Excel. Scikit-learn, on the other hand, is an open-source machine learning library for Python."
     ]
    },
    {
     "cell_type": "markdown",
     "metadata": {},
     "source": [
      "While Scikit-learn does a lot of the heavy lifting, what's equally important is ensuring that raw data is processed in such a way that we are able to 'feed' it to Scikit-learn. Hence, the ability to manipulate raw data with Pandas makes it an indispensible part of our toolkit."
     ]
    },
    {
     "cell_type": "heading",
     "level": 1,
     "metadata": {},
     "source": [
      "Kaggle"
     ]
    },
    {
     "cell_type": "markdown",
     "metadata": {},
     "source": [
      "Kaggle is the leading platform for data science competitions. Participants compete for cash prizes by submitting the best predictive model to problems posted on the competition website.\n",
      "\n",
      "https://www.kaggle.com/competitions"
     ]
    },
    {
     "cell_type": "markdown",
     "metadata": {},
     "source": [
      "Learning machine learning via Kaggle problems allows us to take a highly-directed approach because:\n",
      "1. The problems are well-defined and the data is provided, allowing us to immediately focus on manipulating the data, and\n",
      "2. The leaderboard allows us to keep track of how well we're doing."
     ]
    },
    {
     "cell_type": "markdown",
     "metadata": {},
     "source": [
      "In the following set of exercises, we will be reviewing the data from the Kaggle Titanic competition. Our aim is to make predictions on whether or not specific passengers on the Titanic survived, based on characteristics such as age, sex and class."
     ]
    },
    {
     "cell_type": "heading",
     "level": 1,
     "metadata": {},
     "source": [
      "Section 1-0 - First Cut"
     ]
    },
    {
     "cell_type": "markdown",
     "metadata": {},
     "source": [
      "We will start by processing the training data, after which we will be able to use to 'train' (or 'fit') our model. With the trained model, we apply it to the test data to make the predictions. Finally, we output our predictions into a .csv file to make a submission to Kaggle and see how well they perform."
     ]
    },
    {
     "cell_type": "markdown",
     "metadata": {},
     "source": [
      "It is very common to encounter missing values in a data set. In this section, we will take the simplest (or perhaps, simplistic) approach of ignoring the whole row if any part of it contains an NaN value. We will build on this approach in later sections."
     ]
    },
    {
     "cell_type": "heading",
     "level": 2,
     "metadata": {},
     "source": [
      "Pandas - Extracting data"
     ]
    },
    {
     "cell_type": "markdown",
     "metadata": {},
     "source": [
      "First, we load the training data from a .csv file. This is the similar to the data found on the Kaggle website: \n",
      "\n",
      "https://www.kaggle.com/c/titanic-gettingStarted/data"
     ]
    },
    {
     "cell_type": "code",
     "collapsed": false,
     "input": [
      "import pandas as pd\n",
      "import numpy as np\n",
      "\n",
      "df = pd.read_csv('../data/train.csv')"
     ],
     "language": "python",
     "metadata": {},
     "outputs": [],
     "prompt_number": 1
    },
    {
     "cell_type": "heading",
     "level": 2,
     "metadata": {},
     "source": [
      "Pandas - Cleaning data"
     ]
    },
    {
     "cell_type": "markdown",
     "metadata": {},
     "source": [
      "We then review a selection of the data. "
     ]
    },
    {
     "cell_type": "code",
     "collapsed": false,
     "input": [
      "df.head(10)"
     ],
     "language": "python",
     "metadata": {},
     "outputs": [
      {
       "html": [
        "<div style=\"max-height:1000px;max-width:1500px;overflow:auto;\">\n",
        "<table border=\"1\" class=\"dataframe\">\n",
        "  <thead>\n",
        "    <tr style=\"text-align: right;\">\n",
        "      <th></th>\n",
        "      <th>PassengerId</th>\n",
        "      <th>Survived</th>\n",
        "      <th>Pclass</th>\n",
        "      <th>Name</th>\n",
        "      <th>Sex</th>\n",
        "      <th>Age</th>\n",
        "      <th>SibSp</th>\n",
        "      <th>Parch</th>\n",
        "      <th>Ticket</th>\n",
        "      <th>Fare</th>\n",
        "      <th>Cabin</th>\n",
        "      <th>Embarked</th>\n",
        "    </tr>\n",
        "  </thead>\n",
        "  <tbody>\n",
        "    <tr>\n",
        "      <th>0</th>\n",
        "      <td>  1</td>\n",
        "      <td> 0</td>\n",
        "      <td> 3</td>\n",
        "      <td>                           Braund, Mr. Owen Harris</td>\n",
        "      <td>   male</td>\n",
        "      <td> 22</td>\n",
        "      <td> 1</td>\n",
        "      <td> 0</td>\n",
        "      <td>        A/5 21171</td>\n",
        "      <td>  7.2500</td>\n",
        "      <td>  NaN</td>\n",
        "      <td> S</td>\n",
        "    </tr>\n",
        "    <tr>\n",
        "      <th>1</th>\n",
        "      <td>  2</td>\n",
        "      <td> 1</td>\n",
        "      <td> 1</td>\n",
        "      <td> Cumings, Mrs. John Bradley (Florence Briggs Th...</td>\n",
        "      <td> female</td>\n",
        "      <td> 38</td>\n",
        "      <td> 1</td>\n",
        "      <td> 0</td>\n",
        "      <td>         PC 17599</td>\n",
        "      <td> 71.2833</td>\n",
        "      <td>  C85</td>\n",
        "      <td> C</td>\n",
        "    </tr>\n",
        "    <tr>\n",
        "      <th>2</th>\n",
        "      <td>  3</td>\n",
        "      <td> 1</td>\n",
        "      <td> 3</td>\n",
        "      <td>                            Heikkinen, Miss. Laina</td>\n",
        "      <td> female</td>\n",
        "      <td> 26</td>\n",
        "      <td> 0</td>\n",
        "      <td> 0</td>\n",
        "      <td> STON/O2. 3101282</td>\n",
        "      <td>  7.9250</td>\n",
        "      <td>  NaN</td>\n",
        "      <td> S</td>\n",
        "    </tr>\n",
        "    <tr>\n",
        "      <th>3</th>\n",
        "      <td>  4</td>\n",
        "      <td> 1</td>\n",
        "      <td> 1</td>\n",
        "      <td>      Futrelle, Mrs. Jacques Heath (Lily May Peel)</td>\n",
        "      <td> female</td>\n",
        "      <td> 35</td>\n",
        "      <td> 1</td>\n",
        "      <td> 0</td>\n",
        "      <td>           113803</td>\n",
        "      <td> 53.1000</td>\n",
        "      <td> C123</td>\n",
        "      <td> S</td>\n",
        "    </tr>\n",
        "    <tr>\n",
        "      <th>4</th>\n",
        "      <td>  5</td>\n",
        "      <td> 0</td>\n",
        "      <td> 3</td>\n",
        "      <td>                          Allen, Mr. William Henry</td>\n",
        "      <td>   male</td>\n",
        "      <td> 35</td>\n",
        "      <td> 0</td>\n",
        "      <td> 0</td>\n",
        "      <td>           373450</td>\n",
        "      <td>  8.0500</td>\n",
        "      <td>  NaN</td>\n",
        "      <td> S</td>\n",
        "    </tr>\n",
        "    <tr>\n",
        "      <th>5</th>\n",
        "      <td>  6</td>\n",
        "      <td> 0</td>\n",
        "      <td> 3</td>\n",
        "      <td>                                  Moran, Mr. James</td>\n",
        "      <td>   male</td>\n",
        "      <td>NaN</td>\n",
        "      <td> 0</td>\n",
        "      <td> 0</td>\n",
        "      <td>           330877</td>\n",
        "      <td>  8.4583</td>\n",
        "      <td>  NaN</td>\n",
        "      <td> Q</td>\n",
        "    </tr>\n",
        "    <tr>\n",
        "      <th>6</th>\n",
        "      <td>  7</td>\n",
        "      <td> 0</td>\n",
        "      <td> 1</td>\n",
        "      <td>                           McCarthy, Mr. Timothy J</td>\n",
        "      <td>   male</td>\n",
        "      <td> 54</td>\n",
        "      <td> 0</td>\n",
        "      <td> 0</td>\n",
        "      <td>            17463</td>\n",
        "      <td> 51.8625</td>\n",
        "      <td>  E46</td>\n",
        "      <td> S</td>\n",
        "    </tr>\n",
        "    <tr>\n",
        "      <th>7</th>\n",
        "      <td>  8</td>\n",
        "      <td> 0</td>\n",
        "      <td> 3</td>\n",
        "      <td>                    Palsson, Master. Gosta Leonard</td>\n",
        "      <td>   male</td>\n",
        "      <td>  2</td>\n",
        "      <td> 3</td>\n",
        "      <td> 1</td>\n",
        "      <td>           349909</td>\n",
        "      <td> 21.0750</td>\n",
        "      <td>  NaN</td>\n",
        "      <td> S</td>\n",
        "    </tr>\n",
        "    <tr>\n",
        "      <th>8</th>\n",
        "      <td>  9</td>\n",
        "      <td> 1</td>\n",
        "      <td> 3</td>\n",
        "      <td> Johnson, Mrs. Oscar W (Elisabeth Vilhelmina Berg)</td>\n",
        "      <td> female</td>\n",
        "      <td> 27</td>\n",
        "      <td> 0</td>\n",
        "      <td> 2</td>\n",
        "      <td>           347742</td>\n",
        "      <td> 11.1333</td>\n",
        "      <td>  NaN</td>\n",
        "      <td> S</td>\n",
        "    </tr>\n",
        "    <tr>\n",
        "      <th>9</th>\n",
        "      <td> 10</td>\n",
        "      <td> 1</td>\n",
        "      <td> 2</td>\n",
        "      <td>               Nasser, Mrs. Nicholas (Adele Achem)</td>\n",
        "      <td> female</td>\n",
        "      <td> 14</td>\n",
        "      <td> 1</td>\n",
        "      <td> 0</td>\n",
        "      <td>           237736</td>\n",
        "      <td> 30.0708</td>\n",
        "      <td>  NaN</td>\n",
        "      <td> C</td>\n",
        "    </tr>\n",
        "  </tbody>\n",
        "</table>\n",
        "</div>"
       ],
       "metadata": {},
       "output_type": "pyout",
       "prompt_number": 2,
       "text": [
        "   PassengerId  Survived  Pclass  \\\n",
        "0            1         0       3   \n",
        "1            2         1       1   \n",
        "2            3         1       3   \n",
        "3            4         1       1   \n",
        "4            5         0       3   \n",
        "5            6         0       3   \n",
        "6            7         0       1   \n",
        "7            8         0       3   \n",
        "8            9         1       3   \n",
        "9           10         1       2   \n",
        "\n",
        "                                                Name     Sex  Age  SibSp  \\\n",
        "0                            Braund, Mr. Owen Harris    male   22      1   \n",
        "1  Cumings, Mrs. John Bradley (Florence Briggs Th...  female   38      1   \n",
        "2                             Heikkinen, Miss. Laina  female   26      0   \n",
        "3       Futrelle, Mrs. Jacques Heath (Lily May Peel)  female   35      1   \n",
        "4                           Allen, Mr. William Henry    male   35      0   \n",
        "5                                   Moran, Mr. James    male  NaN      0   \n",
        "6                            McCarthy, Mr. Timothy J    male   54      0   \n",
        "7                     Palsson, Master. Gosta Leonard    male    2      3   \n",
        "8  Johnson, Mrs. Oscar W (Elisabeth Vilhelmina Berg)  female   27      0   \n",
        "9                Nasser, Mrs. Nicholas (Adele Achem)  female   14      1   \n",
        "\n",
        "   Parch            Ticket     Fare Cabin Embarked  \n",
        "0      0         A/5 21171   7.2500   NaN        S  \n",
        "1      0          PC 17599  71.2833   C85        C  \n",
        "2      0  STON/O2. 3101282   7.9250   NaN        S  \n",
        "3      0            113803  53.1000  C123        S  \n",
        "4      0            373450   8.0500   NaN        S  \n",
        "5      0            330877   8.4583   NaN        Q  \n",
        "6      0             17463  51.8625   E46        S  \n",
        "7      1            349909  21.0750   NaN        S  \n",
        "8      2            347742  11.1333   NaN        S  \n",
        "9      0            237736  30.0708   NaN        C  "
       ]
      }
     ],
     "prompt_number": 2
    },
    {
     "cell_type": "markdown",
     "metadata": {},
     "source": [
      "We notice that the columns describe features of the Titanic passengers, such as age, sex, and class. Of particular interest is the column Survived, which describes whether or not the passenger survived. When training our model, what we are essentially doing is assessing how each feature impacts whether or not the passenger survived (or if the feature makes an impact at all)."
     ]
    },
    {
     "cell_type": "markdown",
     "metadata": {},
     "source": [
      "**Exercise**:\n",
      "- Write the code to review the tail-end section of the data. "
     ]
    },
    {
     "cell_type": "markdown",
     "metadata": {},
     "source": [
      "We observe that the columns Name, Ticket and Cabin are, for our current purposes, irrelevant. We proceed to remove them from our data set."
     ]
    },
    {
     "cell_type": "code",
     "collapsed": false,
     "input": [
      "df = df.drop(['Name', 'Ticket', 'Cabin'], axis=1)"
     ],
     "language": "python",
     "metadata": {},
     "outputs": [],
     "prompt_number": 3
    },
    {
     "cell_type": "markdown",
     "metadata": {},
     "source": [
      "Next, we review the type of data in the columns, and their respective counts."
     ]
    },
    {
     "cell_type": "code",
     "collapsed": false,
     "input": [
      "df.info()"
     ],
     "language": "python",
     "metadata": {},
     "outputs": [
      {
       "output_type": "stream",
       "stream": "stdout",
       "text": [
        "<class 'pandas.core.frame.DataFrame'>\n",
        "Int64Index: 891 entries, 0 to 890\n",
        "Data columns (total 9 columns):\n",
        "PassengerId    891 non-null int64\n",
        "Survived       891 non-null int64\n",
        "Pclass         891 non-null int64\n",
        "Sex            891 non-null object\n",
        "Age            714 non-null float64\n",
        "SibSp          891 non-null int64\n",
        "Parch          891 non-null int64\n",
        "Fare           891 non-null float64\n",
        "Embarked       889 non-null object\n",
        "dtypes: float64(2), int64(5), object(2)"
       ]
      }
     ],
     "prompt_number": 4
    },
    {
     "cell_type": "markdown",
     "metadata": {},
     "source": [
      "We notice that the columns Age and Embarked have NaNs or missing values. As previously discussed, we take the approach of simply removing the rows with missing values."
     ]
    },
    {
     "cell_type": "code",
     "collapsed": false,
     "input": [
      "df = df.dropna()"
     ],
     "language": "python",
     "metadata": {},
     "outputs": [],
     "prompt_number": 5
    },
    {
     "cell_type": "markdown",
     "metadata": {},
     "source": [
      "**Question**\n",
      "\n",
      "- If you were to fill in the missing values, with what values would you fill them with? Why?"
     ]
    },
    {
     "cell_type": "markdown",
     "metadata": {},
     "source": [
      "Scikit-learn only takes numerical arrays as inputs. As such, we would need to convert the categorical columns Sex and Embarked into numerical ones. We first review the range of values for the column Sex, and create a new column that represents the data as numbers."
     ]
    },
    {
     "cell_type": "code",
     "collapsed": false,
     "input": [
      "df['Sex'].unique()"
     ],
     "language": "python",
     "metadata": {},
     "outputs": [
      {
       "metadata": {},
       "output_type": "pyout",
       "prompt_number": 6,
       "text": [
        "array(['male', 'female'], dtype=object)"
       ]
      }
     ],
     "prompt_number": 6
    },
    {
     "cell_type": "code",
     "collapsed": false,
     "input": [
      "df['Gender'] = df['Sex'].map({'female': 0, 'male':1}).astype(int)"
     ],
     "language": "python",
     "metadata": {},
     "outputs": [],
     "prompt_number": 7
    },
    {
     "cell_type": "markdown",
     "metadata": {},
     "source": [
      "Similarly for Embarked, we review the range of values and create a new column called Port that represents, as a numerical value, where each passenger embarks from."
     ]
    },
    {
     "cell_type": "code",
     "collapsed": false,
     "input": [
      "df['Embarked'].unique()"
     ],
     "language": "python",
     "metadata": {},
     "outputs": [
      {
       "metadata": {},
       "output_type": "pyout",
       "prompt_number": 8,
       "text": [
        "array(['S', 'C', 'Q'], dtype=object)"
       ]
      }
     ],
     "prompt_number": 8
    },
    {
     "cell_type": "code",
     "collapsed": false,
     "input": [
      "df['Port'] = df['Embarked'].map({'C':1, 'S':2, 'Q':3}).astype(int)"
     ],
     "language": "python",
     "metadata": {},
     "outputs": [],
     "prompt_number": 9
    },
    {
     "cell_type": "markdown",
     "metadata": {},
     "source": [
      "**Question**\n",
      "- What problems might we encounter by mapping C, S, and Q in the column Embarked to the values 1, 2, and 3? In other words, what does the ordering imply? Does the same problem exist for the column Sex?"
     ]
    },
    {
     "cell_type": "markdown",
     "metadata": {},
     "source": [
      "Now that we have numerical columns that encapsulate the information provided by the columns Sex and Embarked, we can proceed to drop them from our data set."
     ]
    },
    {
     "cell_type": "code",
     "collapsed": false,
     "input": [
      "df = df.drop(['Sex', 'Embarked'], axis=1)"
     ],
     "language": "python",
     "metadata": {},
     "outputs": [],
     "prompt_number": 10
    },
    {
     "cell_type": "markdown",
     "metadata": {},
     "source": [
      "We review the columns our final, processed data set."
     ]
    },
    {
     "cell_type": "code",
     "collapsed": false,
     "input": [
      "cols = df.columns.tolist()\n",
      "print(cols)"
     ],
     "language": "python",
     "metadata": {},
     "outputs": [
      {
       "output_type": "stream",
       "stream": "stdout",
       "text": [
        "['PassengerId', 'Survived', 'Pclass', 'Age', 'SibSp', 'Parch', 'Fare', 'Gender', 'Port']\n"
       ]
      }
     ],
     "prompt_number": 11
    },
    {
     "cell_type": "markdown",
     "metadata": {},
     "source": [
      "For convenience, we move the column Survived to the left-most column. We note that the left-most column is indexed as 0."
     ]
    },
    {
     "cell_type": "code",
     "collapsed": false,
     "input": [
      "cols = [cols[1]] + cols[0:1] + cols[2:]\n",
      "df = df[cols]"
     ],
     "language": "python",
     "metadata": {},
     "outputs": [],
     "prompt_number": 12
    },
    {
     "cell_type": "markdown",
     "metadata": {},
     "source": [
      "In our final review of our training data, we check that (1) the column Survived is the left-most column (2) there are no NaN values, and (3) all the values are in numerical form."
     ]
    },
    {
     "cell_type": "code",
     "collapsed": false,
     "input": [
      "df.head(10)"
     ],
     "language": "python",
     "metadata": {},
     "outputs": [
      {
       "html": [
        "<div style=\"max-height:1000px;max-width:1500px;overflow:auto;\">\n",
        "<table border=\"1\" class=\"dataframe\">\n",
        "  <thead>\n",
        "    <tr style=\"text-align: right;\">\n",
        "      <th></th>\n",
        "      <th>Survived</th>\n",
        "      <th>PassengerId</th>\n",
        "      <th>Pclass</th>\n",
        "      <th>Age</th>\n",
        "      <th>SibSp</th>\n",
        "      <th>Parch</th>\n",
        "      <th>Fare</th>\n",
        "      <th>Gender</th>\n",
        "      <th>Port</th>\n",
        "    </tr>\n",
        "  </thead>\n",
        "  <tbody>\n",
        "    <tr>\n",
        "      <th>0 </th>\n",
        "      <td> 0</td>\n",
        "      <td>  1</td>\n",
        "      <td> 3</td>\n",
        "      <td> 22</td>\n",
        "      <td> 1</td>\n",
        "      <td> 0</td>\n",
        "      <td>  7.2500</td>\n",
        "      <td> 1</td>\n",
        "      <td> 2</td>\n",
        "    </tr>\n",
        "    <tr>\n",
        "      <th>1 </th>\n",
        "      <td> 1</td>\n",
        "      <td>  2</td>\n",
        "      <td> 1</td>\n",
        "      <td> 38</td>\n",
        "      <td> 1</td>\n",
        "      <td> 0</td>\n",
        "      <td> 71.2833</td>\n",
        "      <td> 0</td>\n",
        "      <td> 1</td>\n",
        "    </tr>\n",
        "    <tr>\n",
        "      <th>2 </th>\n",
        "      <td> 1</td>\n",
        "      <td>  3</td>\n",
        "      <td> 3</td>\n",
        "      <td> 26</td>\n",
        "      <td> 0</td>\n",
        "      <td> 0</td>\n",
        "      <td>  7.9250</td>\n",
        "      <td> 0</td>\n",
        "      <td> 2</td>\n",
        "    </tr>\n",
        "    <tr>\n",
        "      <th>3 </th>\n",
        "      <td> 1</td>\n",
        "      <td>  4</td>\n",
        "      <td> 1</td>\n",
        "      <td> 35</td>\n",
        "      <td> 1</td>\n",
        "      <td> 0</td>\n",
        "      <td> 53.1000</td>\n",
        "      <td> 0</td>\n",
        "      <td> 2</td>\n",
        "    </tr>\n",
        "    <tr>\n",
        "      <th>4 </th>\n",
        "      <td> 0</td>\n",
        "      <td>  5</td>\n",
        "      <td> 3</td>\n",
        "      <td> 35</td>\n",
        "      <td> 0</td>\n",
        "      <td> 0</td>\n",
        "      <td>  8.0500</td>\n",
        "      <td> 1</td>\n",
        "      <td> 2</td>\n",
        "    </tr>\n",
        "    <tr>\n",
        "      <th>6 </th>\n",
        "      <td> 0</td>\n",
        "      <td>  7</td>\n",
        "      <td> 1</td>\n",
        "      <td> 54</td>\n",
        "      <td> 0</td>\n",
        "      <td> 0</td>\n",
        "      <td> 51.8625</td>\n",
        "      <td> 1</td>\n",
        "      <td> 2</td>\n",
        "    </tr>\n",
        "    <tr>\n",
        "      <th>7 </th>\n",
        "      <td> 0</td>\n",
        "      <td>  8</td>\n",
        "      <td> 3</td>\n",
        "      <td>  2</td>\n",
        "      <td> 3</td>\n",
        "      <td> 1</td>\n",
        "      <td> 21.0750</td>\n",
        "      <td> 1</td>\n",
        "      <td> 2</td>\n",
        "    </tr>\n",
        "    <tr>\n",
        "      <th>8 </th>\n",
        "      <td> 1</td>\n",
        "      <td>  9</td>\n",
        "      <td> 3</td>\n",
        "      <td> 27</td>\n",
        "      <td> 0</td>\n",
        "      <td> 2</td>\n",
        "      <td> 11.1333</td>\n",
        "      <td> 0</td>\n",
        "      <td> 2</td>\n",
        "    </tr>\n",
        "    <tr>\n",
        "      <th>9 </th>\n",
        "      <td> 1</td>\n",
        "      <td> 10</td>\n",
        "      <td> 2</td>\n",
        "      <td> 14</td>\n",
        "      <td> 1</td>\n",
        "      <td> 0</td>\n",
        "      <td> 30.0708</td>\n",
        "      <td> 0</td>\n",
        "      <td> 1</td>\n",
        "    </tr>\n",
        "    <tr>\n",
        "      <th>10</th>\n",
        "      <td> 1</td>\n",
        "      <td> 11</td>\n",
        "      <td> 3</td>\n",
        "      <td>  4</td>\n",
        "      <td> 1</td>\n",
        "      <td> 1</td>\n",
        "      <td> 16.7000</td>\n",
        "      <td> 0</td>\n",
        "      <td> 2</td>\n",
        "    </tr>\n",
        "  </tbody>\n",
        "</table>\n",
        "</div>"
       ],
       "metadata": {},
       "output_type": "pyout",
       "prompt_number": 13,
       "text": [
        "    Survived  PassengerId  Pclass  Age  SibSp  Parch     Fare  Gender  Port\n",
        "0          0            1       3   22      1      0   7.2500       1     2\n",
        "1          1            2       1   38      1      0  71.2833       0     1\n",
        "2          1            3       3   26      0      0   7.9250       0     2\n",
        "3          1            4       1   35      1      0  53.1000       0     2\n",
        "4          0            5       3   35      0      0   8.0500       1     2\n",
        "6          0            7       1   54      0      0  51.8625       1     2\n",
        "7          0            8       3    2      3      1  21.0750       1     2\n",
        "8          1            9       3   27      0      2  11.1333       0     2\n",
        "9          1           10       2   14      1      0  30.0708       0     1\n",
        "10         1           11       3    4      1      1  16.7000       0     2"
       ]
      }
     ],
     "prompt_number": 13
    },
    {
     "cell_type": "code",
     "collapsed": false,
     "input": [
      "df.info()"
     ],
     "language": "python",
     "metadata": {},
     "outputs": [
      {
       "output_type": "stream",
       "stream": "stdout",
       "text": [
        "<class 'pandas.core.frame.DataFrame'>\n",
        "Int64Index: 712 entries, 0 to 890\n",
        "Data columns (total 9 columns):\n",
        "Survived       712 non-null int64\n",
        "PassengerId    712 non-null int64\n",
        "Pclass         712 non-null int64\n",
        "Age            712 non-null float64\n",
        "SibSp          712 non-null int64\n",
        "Parch          712 non-null int64\n",
        "Fare           712 non-null float64\n",
        "Gender         712 non-null int64\n",
        "Port           712 non-null int64\n",
        "dtypes: float64(2), int64(7)"
       ]
      }
     ],
     "prompt_number": 14
    },
    {
     "cell_type": "markdown",
     "metadata": {},
     "source": [
      "Finally, we convert the processed training data from a Pandas dataframe into a numerical (Numpy) array."
     ]
    },
    {
     "cell_type": "code",
     "collapsed": false,
     "input": [
      "train_data = df.values"
     ],
     "language": "python",
     "metadata": {},
     "outputs": [],
     "prompt_number": 15
    },
    {
     "cell_type": "heading",
     "level": 2,
     "metadata": {},
     "source": [
      "Scikit-learn - Training the model"
     ]
    },
    {
     "cell_type": "markdown",
     "metadata": {},
     "source": [
      "In this section, we'll simply use the model as a black box. We'll review more sophisticated techniques in later sections."
     ]
    },
    {
     "cell_type": "markdown",
     "metadata": {},
     "source": [
      "Here we'll be using the Random Forest model. The intuition is as follows: each feature is reviewed to see how much impact it makes to the outcome. The most prominent feature is segmented into a 'branch'. A collection of branches is a 'tree'. The Random Forest model, broadly speaking, creates a 'forest' of trees and aggregates the results.\n",
      "\n",
      "http://en.wikipedia.org/wiki/Random_forest"
     ]
    },
    {
     "cell_type": "code",
     "collapsed": false,
     "input": [
      "from sklearn.ensemble import RandomForestClassifier\n",
      "\n",
      "model = RandomForestClassifier(n_estimators = 100)"
     ],
     "language": "python",
     "metadata": {},
     "outputs": [],
     "prompt_number": 16
    },
    {
     "cell_type": "markdown",
     "metadata": {},
     "source": [
      "We use the processed training data to 'train' (or 'fit') our model. The column Survived will be our second input, and the set of other features (with the column PassengerId omitted) as the first."
     ]
    },
    {
     "cell_type": "code",
     "collapsed": false,
     "input": [
      "model = model.fit(train_data[0:,2:], train_data[0:,0])"
     ],
     "language": "python",
     "metadata": {},
     "outputs": [],
     "prompt_number": 17
    },
    {
     "cell_type": "heading",
     "level": 2,
     "metadata": {},
     "source": [
      "Scikit-learn - Making predictions"
     ]
    },
    {
     "cell_type": "markdown",
     "metadata": {},
     "source": [
      "We first load the test data."
     ]
    },
    {
     "cell_type": "code",
     "collapsed": false,
     "input": [
      "df_test = pd.read_csv('../data/test.csv')"
     ],
     "language": "python",
     "metadata": {},
     "outputs": [],
     "prompt_number": 18
    },
    {
     "cell_type": "markdown",
     "metadata": {},
     "source": [
      "We then review a selection of the data."
     ]
    },
    {
     "cell_type": "code",
     "collapsed": false,
     "input": [
      "df_test.head(10)"
     ],
     "language": "python",
     "metadata": {},
     "outputs": [
      {
       "html": [
        "<div style=\"max-height:1000px;max-width:1500px;overflow:auto;\">\n",
        "<table border=\"1\" class=\"dataframe\">\n",
        "  <thead>\n",
        "    <tr style=\"text-align: right;\">\n",
        "      <th></th>\n",
        "      <th>PassengerId</th>\n",
        "      <th>Pclass</th>\n",
        "      <th>Name</th>\n",
        "      <th>Sex</th>\n",
        "      <th>Age</th>\n",
        "      <th>SibSp</th>\n",
        "      <th>Parch</th>\n",
        "      <th>Ticket</th>\n",
        "      <th>Fare</th>\n",
        "      <th>Cabin</th>\n",
        "      <th>Embarked</th>\n",
        "    </tr>\n",
        "  </thead>\n",
        "  <tbody>\n",
        "    <tr>\n",
        "      <th>0</th>\n",
        "      <td> 892</td>\n",
        "      <td> 3</td>\n",
        "      <td>                             Kelly, Mr. James</td>\n",
        "      <td>   male</td>\n",
        "      <td> 34.5</td>\n",
        "      <td> 0</td>\n",
        "      <td> 0</td>\n",
        "      <td>    330911</td>\n",
        "      <td>  7.8292</td>\n",
        "      <td> NaN</td>\n",
        "      <td> Q</td>\n",
        "    </tr>\n",
        "    <tr>\n",
        "      <th>1</th>\n",
        "      <td> 893</td>\n",
        "      <td> 3</td>\n",
        "      <td>             Wilkes, Mrs. James (Ellen Needs)</td>\n",
        "      <td> female</td>\n",
        "      <td> 47.0</td>\n",
        "      <td> 1</td>\n",
        "      <td> 0</td>\n",
        "      <td>    363272</td>\n",
        "      <td>  7.0000</td>\n",
        "      <td> NaN</td>\n",
        "      <td> S</td>\n",
        "    </tr>\n",
        "    <tr>\n",
        "      <th>2</th>\n",
        "      <td> 894</td>\n",
        "      <td> 2</td>\n",
        "      <td>                    Myles, Mr. Thomas Francis</td>\n",
        "      <td>   male</td>\n",
        "      <td> 62.0</td>\n",
        "      <td> 0</td>\n",
        "      <td> 0</td>\n",
        "      <td>    240276</td>\n",
        "      <td>  9.6875</td>\n",
        "      <td> NaN</td>\n",
        "      <td> Q</td>\n",
        "    </tr>\n",
        "    <tr>\n",
        "      <th>3</th>\n",
        "      <td> 895</td>\n",
        "      <td> 3</td>\n",
        "      <td>                             Wirz, Mr. Albert</td>\n",
        "      <td>   male</td>\n",
        "      <td> 27.0</td>\n",
        "      <td> 0</td>\n",
        "      <td> 0</td>\n",
        "      <td>    315154</td>\n",
        "      <td>  8.6625</td>\n",
        "      <td> NaN</td>\n",
        "      <td> S</td>\n",
        "    </tr>\n",
        "    <tr>\n",
        "      <th>4</th>\n",
        "      <td> 896</td>\n",
        "      <td> 3</td>\n",
        "      <td> Hirvonen, Mrs. Alexander (Helga E Lindqvist)</td>\n",
        "      <td> female</td>\n",
        "      <td> 22.0</td>\n",
        "      <td> 1</td>\n",
        "      <td> 1</td>\n",
        "      <td>   3101298</td>\n",
        "      <td> 12.2875</td>\n",
        "      <td> NaN</td>\n",
        "      <td> S</td>\n",
        "    </tr>\n",
        "    <tr>\n",
        "      <th>5</th>\n",
        "      <td> 897</td>\n",
        "      <td> 3</td>\n",
        "      <td>                   Svensson, Mr. Johan Cervin</td>\n",
        "      <td>   male</td>\n",
        "      <td> 14.0</td>\n",
        "      <td> 0</td>\n",
        "      <td> 0</td>\n",
        "      <td>      7538</td>\n",
        "      <td>  9.2250</td>\n",
        "      <td> NaN</td>\n",
        "      <td> S</td>\n",
        "    </tr>\n",
        "    <tr>\n",
        "      <th>6</th>\n",
        "      <td> 898</td>\n",
        "      <td> 3</td>\n",
        "      <td>                         Connolly, Miss. Kate</td>\n",
        "      <td> female</td>\n",
        "      <td> 30.0</td>\n",
        "      <td> 0</td>\n",
        "      <td> 0</td>\n",
        "      <td>    330972</td>\n",
        "      <td>  7.6292</td>\n",
        "      <td> NaN</td>\n",
        "      <td> Q</td>\n",
        "    </tr>\n",
        "    <tr>\n",
        "      <th>7</th>\n",
        "      <td> 899</td>\n",
        "      <td> 2</td>\n",
        "      <td>                 Caldwell, Mr. Albert Francis</td>\n",
        "      <td>   male</td>\n",
        "      <td> 26.0</td>\n",
        "      <td> 1</td>\n",
        "      <td> 1</td>\n",
        "      <td>    248738</td>\n",
        "      <td> 29.0000</td>\n",
        "      <td> NaN</td>\n",
        "      <td> S</td>\n",
        "    </tr>\n",
        "    <tr>\n",
        "      <th>8</th>\n",
        "      <td> 900</td>\n",
        "      <td> 3</td>\n",
        "      <td>    Abrahim, Mrs. Joseph (Sophie Halaut Easu)</td>\n",
        "      <td> female</td>\n",
        "      <td> 18.0</td>\n",
        "      <td> 0</td>\n",
        "      <td> 0</td>\n",
        "      <td>      2657</td>\n",
        "      <td>  7.2292</td>\n",
        "      <td> NaN</td>\n",
        "      <td> C</td>\n",
        "    </tr>\n",
        "    <tr>\n",
        "      <th>9</th>\n",
        "      <td> 901</td>\n",
        "      <td> 3</td>\n",
        "      <td>                      Davies, Mr. John Samuel</td>\n",
        "      <td>   male</td>\n",
        "      <td> 21.0</td>\n",
        "      <td> 2</td>\n",
        "      <td> 0</td>\n",
        "      <td> A/4 48871</td>\n",
        "      <td> 24.1500</td>\n",
        "      <td> NaN</td>\n",
        "      <td> S</td>\n",
        "    </tr>\n",
        "  </tbody>\n",
        "</table>\n",
        "</div>"
       ],
       "metadata": {},
       "output_type": "pyout",
       "prompt_number": 19,
       "text": [
        "   PassengerId  Pclass                                          Name     Sex  \\\n",
        "0          892       3                              Kelly, Mr. James    male   \n",
        "1          893       3              Wilkes, Mrs. James (Ellen Needs)  female   \n",
        "2          894       2                     Myles, Mr. Thomas Francis    male   \n",
        "3          895       3                              Wirz, Mr. Albert    male   \n",
        "4          896       3  Hirvonen, Mrs. Alexander (Helga E Lindqvist)  female   \n",
        "5          897       3                    Svensson, Mr. Johan Cervin    male   \n",
        "6          898       3                          Connolly, Miss. Kate  female   \n",
        "7          899       2                  Caldwell, Mr. Albert Francis    male   \n",
        "8          900       3     Abrahim, Mrs. Joseph (Sophie Halaut Easu)  female   \n",
        "9          901       3                       Davies, Mr. John Samuel    male   \n",
        "\n",
        "    Age  SibSp  Parch     Ticket     Fare Cabin Embarked  \n",
        "0  34.5      0      0     330911   7.8292   NaN        Q  \n",
        "1  47.0      1      0     363272   7.0000   NaN        S  \n",
        "2  62.0      0      0     240276   9.6875   NaN        Q  \n",
        "3  27.0      0      0     315154   8.6625   NaN        S  \n",
        "4  22.0      1      1    3101298  12.2875   NaN        S  \n",
        "5  14.0      0      0       7538   9.2250   NaN        S  \n",
        "6  30.0      0      0     330972   7.6292   NaN        Q  \n",
        "7  26.0      1      1     248738  29.0000   NaN        S  \n",
        "8  18.0      0      0       2657   7.2292   NaN        C  \n",
        "9  21.0      2      0  A/4 48871  24.1500   NaN        S  "
       ]
      }
     ],
     "prompt_number": 19
    },
    {
     "cell_type": "markdown",
     "metadata": {},
     "source": [
      "We notice that test data has columns similar to our training data, but not the column Survived. We'll use our trained model to predict values for the column Survived."
     ]
    },
    {
     "cell_type": "markdown",
     "metadata": {},
     "source": [
      "As before, we process the test data in a similar fashion to what we did to the training data."
     ]
    },
    {
     "cell_type": "code",
     "collapsed": false,
     "input": [
      "df_test = df_test.drop(['Name', 'Ticket', 'Cabin'], axis=1)\n",
      "\n",
      "df_test = df_test.dropna()\n",
      "\n",
      "df_test['Gender'] = df_test['Sex'].map({'female': 0, 'male':1})\n",
      "df_test['Port'] = df_test['Embarked'].map({'C':1, 'S':2, 'Q':3})\n",
      "\n",
      "df_test = df_test.drop(['Sex', 'Embarked'], axis=1)\n",
      "\n",
      "test_data = df_test.values"
     ],
     "language": "python",
     "metadata": {},
     "outputs": [],
     "prompt_number": 20
    },
    {
     "cell_type": "markdown",
     "metadata": {},
     "source": [
      "We now apply the trained model to the test data (omitting the column PassengerId) to produce an output of predictions."
     ]
    },
    {
     "cell_type": "code",
     "collapsed": false,
     "input": [
      "output = model.predict(test_data[:,1:])"
     ],
     "language": "python",
     "metadata": {},
     "outputs": [],
     "prompt_number": 21
    },
    {
     "cell_type": "heading",
     "level": 2,
     "metadata": {},
     "source": [
      "Pandas - Preparing for submission"
     ]
    },
    {
     "cell_type": "markdown",
     "metadata": {},
     "source": [
      "We simply create a Pandas dataframe by combining the index from the test data with the output of predictions."
     ]
    },
    {
     "cell_type": "code",
     "collapsed": false,
     "input": [
      "result = np.c_[test_data[:,0].astype(int), output.astype(int)]\n",
      "df_result = pd.DataFrame(result[:,0:2], columns=['PassengerId', 'Survived'])"
     ],
     "language": "python",
     "metadata": {},
     "outputs": [],
     "prompt_number": 22
    },
    {
     "cell_type": "markdown",
     "metadata": {},
     "source": [
      "We briefly review our predictions."
     ]
    },
    {
     "cell_type": "code",
     "collapsed": false,
     "input": [
      "df_result.head(10)"
     ],
     "language": "python",
     "metadata": {},
     "outputs": [
      {
       "html": [
        "<div style=\"max-height:1000px;max-width:1500px;overflow:auto;\">\n",
        "<table border=\"1\" class=\"dataframe\">\n",
        "  <thead>\n",
        "    <tr style=\"text-align: right;\">\n",
        "      <th></th>\n",
        "      <th>PassengerId</th>\n",
        "      <th>Survived</th>\n",
        "    </tr>\n",
        "  </thead>\n",
        "  <tbody>\n",
        "    <tr>\n",
        "      <th>0</th>\n",
        "      <td> 892</td>\n",
        "      <td> 0</td>\n",
        "    </tr>\n",
        "    <tr>\n",
        "      <th>1</th>\n",
        "      <td> 893</td>\n",
        "      <td> 0</td>\n",
        "    </tr>\n",
        "    <tr>\n",
        "      <th>2</th>\n",
        "      <td> 894</td>\n",
        "      <td> 0</td>\n",
        "    </tr>\n",
        "    <tr>\n",
        "      <th>3</th>\n",
        "      <td> 895</td>\n",
        "      <td> 1</td>\n",
        "    </tr>\n",
        "    <tr>\n",
        "      <th>4</th>\n",
        "      <td> 896</td>\n",
        "      <td> 0</td>\n",
        "    </tr>\n",
        "    <tr>\n",
        "      <th>5</th>\n",
        "      <td> 897</td>\n",
        "      <td> 0</td>\n",
        "    </tr>\n",
        "    <tr>\n",
        "      <th>6</th>\n",
        "      <td> 898</td>\n",
        "      <td> 0</td>\n",
        "    </tr>\n",
        "    <tr>\n",
        "      <th>7</th>\n",
        "      <td> 899</td>\n",
        "      <td> 0</td>\n",
        "    </tr>\n",
        "    <tr>\n",
        "      <th>8</th>\n",
        "      <td> 900</td>\n",
        "      <td> 1</td>\n",
        "    </tr>\n",
        "    <tr>\n",
        "      <th>9</th>\n",
        "      <td> 901</td>\n",
        "      <td> 0</td>\n",
        "    </tr>\n",
        "  </tbody>\n",
        "</table>\n",
        "</div>"
       ],
       "metadata": {},
       "output_type": "pyout",
       "prompt_number": 23,
       "text": [
        "   PassengerId  Survived\n",
        "0          892         0\n",
        "1          893         0\n",
        "2          894         0\n",
        "3          895         1\n",
        "4          896         0\n",
        "5          897         0\n",
        "6          898         0\n",
        "7          899         0\n",
        "8          900         1\n",
        "9          901         0"
       ]
      }
     ],
     "prompt_number": 23
    },
    {
     "cell_type": "markdown",
     "metadata": {},
     "source": [
      "Finally, we output our results to a .csv file."
     ]
    },
    {
     "cell_type": "code",
     "collapsed": false,
     "input": [
      "df_result.to_csv('../results/titanic_1-0.csv', index=False)"
     ],
     "language": "python",
     "metadata": {},
     "outputs": [],
     "prompt_number": 24
    },
    {
     "cell_type": "markdown",
     "metadata": {},
     "source": [
      "However, it appears that we have a problem. The Kaggle submission website expects \"the solution file to have 418 predictions.\"\n",
      "\n",
      "https://www.kaggle.com/c/titanic-gettingStarted/submissions/attach"
     ]
    },
    {
     "cell_type": "markdown",
     "metadata": {},
     "source": [
      "We compare this to our result."
     ]
    },
    {
     "cell_type": "code",
     "collapsed": false,
     "input": [
      "df_result.shape"
     ],
     "language": "python",
     "metadata": {},
     "outputs": [
      {
       "metadata": {},
       "output_type": "pyout",
       "prompt_number": 25,
       "text": [
        "(331, 2)"
       ]
      }
     ],
     "prompt_number": 25
    },
    {
     "cell_type": "markdown",
     "metadata": {},
     "source": [
      "Since we eliminated the rows containing NaNs, we end up with a set of predictions with a smaller number of rows compared to the test data. As Kaggle requires all 418 predictions, we are unable to make a submission."
     ]
    },
    {
     "cell_type": "markdown",
     "metadata": {},
     "source": [
      "In this section, we took the simplest approach of ignoring missing values, but fail to produce a complete set of predictions. We look to build on this approach in Section 1-1."
     ]
    }
   ],
   "metadata": {}
  }
 ]
}