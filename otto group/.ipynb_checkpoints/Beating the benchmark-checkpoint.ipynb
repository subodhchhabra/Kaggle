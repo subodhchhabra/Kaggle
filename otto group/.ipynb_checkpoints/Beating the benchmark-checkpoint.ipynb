{
 "cells": [
  {
   "cell_type": "code",
   "execution_count": 18,
   "metadata": {
    "collapsed": true
   },
   "outputs": [],
   "source": [
    "import pandas as pd\n",
    "import numpy as np\n",
    "from sklearn import ensemble, feature_extraction, preprocessing\n",
    "from sklearn.feature_selection import SelectKBest, chi2, SelectPercentile, f_classif\n",
    "\n",
    "# import data\n",
    "train = pd.read_csv('C:/Vindico/Projects/Data/Kaggle/Competition/otto group/train.csv')\n",
    "test = pd.read_csv('C:/Vindico/Projects/Data/Kaggle/Competition/otto group/test.csv')\n",
    "sample = pd.read_csv('C:/Vindico/Projects/Data/Kaggle/Competition/otto group/sampleSubmission.csv')\n",
    "\n",
    "# drop ids and get labels\n",
    "labels = train.target.values\n",
    "train.drop(['id', 'target'], axis=1, inplace=True)\n",
    "test = test.drop('id', axis=1)\n",
    "\n",
    "# transform counts to TFIDF features\n",
    "tfidf = feature_extraction.text.TfidfTransformer()\n",
    "train = tfidf.fit_transform(train).toarray()\n",
    "test = tfidf.transform(test).toarray()"
   ]
  },
  {
   "cell_type": "code",
   "execution_count": 19,
   "metadata": {
    "collapsed": true
   },
   "outputs": [],
   "source": [
    "# encode labels \n",
    "lbl_enc = preprocessing.LabelEncoder()\n",
    "labels = lbl_enc.fit_transform(labels)\n",
    "\n",
    "\n",
    "selector = SelectPercentile(f_classif, percentile=10)\n",
    "train = selector.fit_transform(train, labels)\n",
    "test = selector.transform(test)\n",
    "\n",
    "# train a random forest classifier\n",
    "clf = ensemble.RandomForestClassifier(n_jobs=-1, n_estimators=100)\n",
    "clf.fit(train, labels)\n",
    "\n",
    "# predict on test set\n",
    "preds = clf.predict_proba(test)\n",
    "\n",
    "# create submission file\n",
    "preds = pd.DataFrame(preds, index=sample.id.values, columns=sample.columns[1:])\n",
    "preds.to_csv('benchmark 2.csv', index_label='id')"
   ]
  },
  {
   "cell_type": "code",
   "execution_count": 20,
   "metadata": {
    "collapsed": false
   },
   "outputs": [
    {
     "data": {
      "text/html": [
       "<div style=\"max-height:1000px;max-width:1500px;overflow:auto;\">\n",
       "<table border=\"1\" class=\"dataframe\">\n",
       "  <thead>\n",
       "    <tr style=\"text-align: right;\">\n",
       "      <th></th>\n",
       "      <th>Class_1</th>\n",
       "      <th>Class_2</th>\n",
       "      <th>Class_3</th>\n",
       "      <th>Class_4</th>\n",
       "      <th>Class_5</th>\n",
       "      <th>Class_6</th>\n",
       "      <th>Class_7</th>\n",
       "      <th>Class_8</th>\n",
       "      <th>Class_9</th>\n",
       "    </tr>\n",
       "  </thead>\n",
       "  <tbody>\n",
       "    <tr>\n",
       "      <th>1</th>\n",
       "      <td> 0.00</td>\n",
       "      <td> 0.43</td>\n",
       "      <td> 0.19</td>\n",
       "      <td> 0.01</td>\n",
       "      <td> 0</td>\n",
       "      <td> 0.02</td>\n",
       "      <td> 0.03</td>\n",
       "      <td> 0.28</td>\n",
       "      <td> 0.04</td>\n",
       "    </tr>\n",
       "    <tr>\n",
       "      <th>2</th>\n",
       "      <td> 0.00</td>\n",
       "      <td> 0.00</td>\n",
       "      <td> 0.00</td>\n",
       "      <td> 0.00</td>\n",
       "      <td> 0</td>\n",
       "      <td> 1.00</td>\n",
       "      <td> 0.00</td>\n",
       "      <td> 0.00</td>\n",
       "      <td> 0.00</td>\n",
       "    </tr>\n",
       "    <tr>\n",
       "      <th>3</th>\n",
       "      <td> 0.00</td>\n",
       "      <td> 0.00</td>\n",
       "      <td> 0.00</td>\n",
       "      <td> 0.00</td>\n",
       "      <td> 0</td>\n",
       "      <td> 1.00</td>\n",
       "      <td> 0.00</td>\n",
       "      <td> 0.00</td>\n",
       "      <td> 0.00</td>\n",
       "    </tr>\n",
       "    <tr>\n",
       "      <th>4</th>\n",
       "      <td> 0.00</td>\n",
       "      <td> 0.09</td>\n",
       "      <td> 0.02</td>\n",
       "      <td> 0.00</td>\n",
       "      <td> 0</td>\n",
       "      <td> 0.20</td>\n",
       "      <td> 0.02</td>\n",
       "      <td> 0.04</td>\n",
       "      <td> 0.63</td>\n",
       "    </tr>\n",
       "    <tr>\n",
       "      <th>5</th>\n",
       "      <td> 0.01</td>\n",
       "      <td> 0.00</td>\n",
       "      <td> 0.00</td>\n",
       "      <td> 0.00</td>\n",
       "      <td> 0</td>\n",
       "      <td> 0.03</td>\n",
       "      <td> 0.00</td>\n",
       "      <td> 0.96</td>\n",
       "      <td> 0.00</td>\n",
       "    </tr>\n",
       "  </tbody>\n",
       "</table>\n",
       "</div>"
      ],
      "text/plain": [
       "   Class_1  Class_2  Class_3  Class_4  Class_5  Class_6  Class_7  Class_8  \\\n",
       "1     0.00     0.43     0.19     0.01        0     0.02     0.03     0.28   \n",
       "2     0.00     0.00     0.00     0.00        0     1.00     0.00     0.00   \n",
       "3     0.00     0.00     0.00     0.00        0     1.00     0.00     0.00   \n",
       "4     0.00     0.09     0.02     0.00        0     0.20     0.02     0.04   \n",
       "5     0.01     0.00     0.00     0.00        0     0.03     0.00     0.96   \n",
       "\n",
       "   Class_9  \n",
       "1     0.04  \n",
       "2     0.00  \n",
       "3     0.00  \n",
       "4     0.63  \n",
       "5     0.00  "
      ]
     },
     "execution_count": 20,
     "metadata": {},
     "output_type": "execute_result"
    }
   ],
   "source": [
    "preds.head()"
   ]
  }
 ],
 "metadata": {
  "kernelspec": {
   "display_name": "Python 2",
   "language": "python",
   "name": "python2"
  },
  "language_info": {
   "codemirror_mode": {
    "name": "ipython",
    "version": 2
   },
   "file_extension": ".py",
   "mimetype": "text/x-python",
   "name": "python",
   "nbconvert_exporter": "python",
   "pygments_lexer": "ipython2",
   "version": "2.7.8"
  }
 },
 "nbformat": 4,
 "nbformat_minor": 0
}
